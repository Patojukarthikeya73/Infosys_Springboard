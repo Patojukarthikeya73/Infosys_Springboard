{
  "nbformat": 4,
  "nbformat_minor": 0,
  "metadata": {
    "colab": {
      "provenance": [],
      "gpuType": "T4",
      "authorship_tag": "ABX9TyOKt/XqIcDBa1dHwmDD+wUW",
      "include_colab_link": true
    },
    "kernelspec": {
      "name": "python3",
      "display_name": "Python 3"
    },
    "language_info": {
      "name": "python"
    },
    "accelerator": "GPU"
  },
  "cells": [
    {
      "cell_type": "markdown",
      "metadata": {
        "id": "view-in-github",
        "colab_type": "text"
      },
      "source": [
        "<a href=\"https://colab.research.google.com/github/Patojukarthikeya73/Infosys_Springboard/blob/main/Module2.ipynb\" target=\"_parent\"><img src=\"https://colab.research.google.com/assets/colab-badge.svg\" alt=\"Open In Colab\"/></a>"
      ]
    },
    {
      "cell_type": "code",
      "execution_count": 1,
      "metadata": {
        "id": "QV7zg6iJ_Z14"
      },
      "outputs": [],
      "source": [
        "# Step 1 — Install dependencies\n",
        "!pip install --quiet transformers gradio accelerate sentencepiece\n",
        "\n",
        "# Step 1 — Imports and setup\n",
        "import ast\n",
        "import re\n",
        "import gradio as gr\n",
        "from typing import Optional\n",
        "\n",
        "MODEL_CACHE = {}   # cache for loaded models\n"
      ]
    },
    {
      "cell_type": "code",
      "source": [
        "# Step 2 — Define AST-based Python explanation function\n",
        "def explain_python_ast(code: str) -> str:\n",
        "    \"\"\"\n",
        "    Produce a readable explanation of Python code using AST parsing.\n",
        "    Explains top-level constructs (functions, classes, imports, loops, etc.)\n",
        "    \"\"\"\n",
        "    try:\n",
        "        tree = ast.parse(code)\n",
        "    except Exception as e:\n",
        "        return f\"❌ Could not parse code as Python AST: {e}\"\n",
        "\n",
        "    explanations = []\n",
        "\n",
        "    def explain_args(args):\n",
        "        return \", \".join([arg.arg for arg in args.args])\n",
        "\n",
        "    for node in tree.body:\n",
        "        if isinstance(node, ast.FunctionDef):\n",
        "            name = node.name\n",
        "            args = explain_args(node.args)\n",
        "            doc = ast.get_docstring(node) or \"\"\n",
        "            explanations.append(f\"- Function `{name}({args})` defined. {('Doc: '+doc) if doc else ''}\")\n",
        "\n",
        "            for sub in ast.walk(node):\n",
        "                if isinstance(sub, ast.For):\n",
        "                    explanations.append(f\"  * Inside `{name}`: for-loop iterates over {getattr(ast, 'unparse', lambda x:'iterable')(sub.iter)}.\")\n",
        "                if isinstance(sub, ast.While):\n",
        "                    explanations.append(f\"  * Inside `{name}`: while-loop with condition {getattr(ast, 'unparse', lambda x:'condition')(sub.test)}.\")\n",
        "                if isinstance(sub, ast.If):\n",
        "                    explanations.append(f\"  * Inside `{name}`: if-statement checks {getattr(ast, 'unparse', lambda x:'condition')(sub.test)}.\")\n",
        "\n",
        "        elif isinstance(node, ast.ClassDef):\n",
        "            explanations.append(f\"- Class `{node.name}` defined.\")\n",
        "        elif isinstance(node, ast.Import):\n",
        "            names = \", \".join([alias.name for alias in node.names])\n",
        "            explanations.append(f\"- Imported module(s): {names}.\")\n",
        "        elif isinstance(node, ast.ImportFrom):\n",
        "            mod = node.module or \"\"\n",
        "            names = \", \".join([alias.name for alias in node.names])\n",
        "            explanations.append(f\"- From `{mod}` import: {names}.\")\n",
        "        elif isinstance(node, ast.Assign):\n",
        "            targets = \", \".join([ast.unparse(t) for t in node.targets]) if hasattr(ast, \"unparse\") else \"variable\"\n",
        "            explanations.append(f\"- Assignment to `{targets}`.\")\n",
        "        elif isinstance(node, ast.Expr):\n",
        "            if isinstance(node.value, ast.Constant) and isinstance(node.value.value, str):\n",
        "                explanations.append(f\"- Docstring/comment: {node.value.value[:80]!r}...\")\n",
        "        else:\n",
        "            explanations.append(f\"- Top-level {node.__class__.__name__} encountered.\")\n",
        "\n",
        "    return \"Python AST Explanation:\\n\" + \"\\n\".join(explanations)\n"
      ],
      "metadata": {
        "id": "R_XgswmuAYC6"
      },
      "execution_count": 2,
      "outputs": []
    },
    {
      "cell_type": "code",
      "source": [
        "# Step 3 — Lazy model loader\n",
        "def get_generator(model_key: str):\n",
        "    from transformers import pipeline\n",
        "    import torch\n",
        "\n",
        "    device = 0 if torch.cuda.is_available() else -1\n",
        "\n",
        "    if model_key in MODEL_CACHE:\n",
        "        return MODEL_CACHE[model_key]\n",
        "\n",
        "    if model_key == \"phi\":\n",
        "        model_name = \"microsoft/Phi-3-mini-4k-instruct\"\n",
        "    elif model_key == \"codegen\":\n",
        "        model_name = \"Salesforce/codegen-350M-mono\"\n",
        "    else:\n",
        "        raise ValueError(\"Unknown model key\")\n",
        "\n",
        "    pipe = pipeline(\"text-generation\", model=model_name, tokenizer=model_name, device=device, max_length=512)\n",
        "    MODEL_CACHE[model_key] = pipe\n",
        "    return pipe\n"
      ],
      "metadata": {
        "id": "vEQu0_5QBtS_"
      },
      "execution_count": 3,
      "outputs": []
    },
    {
      "cell_type": "code",
      "source": [
        "# Step 4 — Generation + Explanation logic\n",
        "def model_generate_text(lang: str, mode: str, user_input: str) -> str:\n",
        "    lang, mode = lang.lower(), mode.lower()\n",
        "    model_key = \"phi\" if lang == \"python\" else \"codegen\"\n",
        "    gen = get_generator(model_key)\n",
        "\n",
        "    if mode == \"generate\":\n",
        "        prompt = f\"Write only {lang} code for the following instruction:\\n{user_input}\\n\\n### {lang} code:\\n\"\n",
        "    else:\n",
        "        prompt = f\"Explain the following {lang} code clearly and briefly:\\n{user_input}\\n\\nExplanation:\\n\"\n",
        "\n",
        "    try:\n",
        "        out = gen(prompt, max_new_tokens=256, do_sample=False, temperature=0.2)\n",
        "        text = out[0][\"generated_text\"].replace(prompt, \"\").strip()\n",
        "        text = re.sub(r\"```(?:\\w+)?\", \"\", text)\n",
        "        return text\n",
        "    except Exception as e:\n",
        "        return f\"❌ Model generation error: {e}\"\n"
      ],
      "metadata": {
        "id": "WaAJOmkLBxgS"
      },
      "execution_count": 4,
      "outputs": []
    },
    {
      "cell_type": "code",
      "source": [
        "# Step 5 — Gradio UI setup\n",
        "with gr.Blocks(title=\"CodeGenie — Module 2\") as demo:\n",
        "    gr.Markdown(\"# 🧠 CodeGenie: Generate & Explain Code\")\n",
        "    with gr.Row():\n",
        "        with gr.Column():\n",
        "            lang = gr.Dropdown([\"Python\", \"JavaScript\", \"Solidity\"], label=\"Language\", value=\"Python\")\n",
        "            mode = gr.Radio([\"Generate\", \"Explain\"], label=\"Mode\", value=\"Generate\")\n",
        "            use_ast = gr.Checkbox(label=\"Use AST for Python explanation\", value=True)\n",
        "            user_input = gr.Textbox(label=\"Prompt / Code\", lines=8, placeholder=\"Enter prompt or paste code\")\n",
        "            run_btn = gr.Button(\"Run 🚀\")\n",
        "        with gr.Column():\n",
        "            output = gr.Textbox(label=\"Output (Code or Explanation)\", lines=18)\n",
        "\n",
        "    def handle_run(selected_lang, selected_mode, ast_flag, user_text):\n",
        "        if not user_text.strip():\n",
        "            return \"⚠️ Please enter some input.\"\n",
        "        if selected_mode.lower() == \"explain\" and selected_lang.lower() == \"python\" and ast_flag:\n",
        "            ast_part = explain_python_ast(user_text)\n",
        "            model_part = model_generate_text(\"python\", \"explain\", user_text)\n",
        "            return f\"{ast_part}\\n\\n---\\n\\nModel-based Explanation:\\n{model_part}\"\n",
        "        return model_generate_text(selected_lang, selected_mode, user_text)\n",
        "\n",
        "    run_btn.click(handle_run, [lang, mode, use_ast, user_input], [output])\n",
        "\n",
        "demo.launch(share=True)\n"
      ],
      "metadata": {
        "colab": {
          "base_uri": "https://localhost:8080/",
          "height": 611
        },
        "id": "C0aEhTC1B2ZM",
        "outputId": "3d90f2ed-3bc9-4385-ca7b-fd4811a6284e"
      },
      "execution_count": 5,
      "outputs": [
        {
          "output_type": "stream",
          "name": "stdout",
          "text": [
            "Colab notebook detected. To show errors in colab notebook, set debug=True in launch()\n",
            "* Running on public URL: https://10c0599ec0e1a053bb.gradio.live\n",
            "\n",
            "This share link expires in 1 week. For free permanent hosting and GPU upgrades, run `gradio deploy` from the terminal in the working directory to deploy to Hugging Face Spaces (https://huggingface.co/spaces)\n"
          ]
        },
        {
          "output_type": "display_data",
          "data": {
            "text/plain": [
              "<IPython.core.display.HTML object>"
            ],
            "text/html": [
              "<div><iframe src=\"https://10c0599ec0e1a053bb.gradio.live\" width=\"100%\" height=\"500\" allow=\"autoplay; camera; microphone; clipboard-read; clipboard-write;\" frameborder=\"0\" allowfullscreen></iframe></div>"
            ]
          },
          "metadata": {}
        },
        {
          "output_type": "execute_result",
          "data": {
            "text/plain": []
          },
          "metadata": {},
          "execution_count": 5
        }
      ]
    },
    {
      "cell_type": "code",
      "source": [],
      "metadata": {
        "id": "LCxXdczkB6E8"
      },
      "execution_count": 5,
      "outputs": []
    }
  ]
}