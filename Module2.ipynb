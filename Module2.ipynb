{
  "nbformat": 4,
  "nbformat_minor": 0,
  "metadata": {
    "colab": {
      "provenance": [],
      "gpuType": "T4",
      "authorship_tag": "ABX9TyPX/aZgkh8042/HPB7xwY/Y",
      "include_colab_link": true
    },
    "kernelspec": {
      "name": "python3",
      "display_name": "Python 3"
    },
    "language_info": {
      "name": "python"
    },
    "accelerator": "GPU"
  },
  "cells": [
    {
      "cell_type": "markdown",
      "metadata": {
        "id": "view-in-github",
        "colab_type": "text"
      },
      "source": [
        "<a href=\"https://colab.research.google.com/github/Patojukarthikeya73/Infosys_Springboard/blob/main/Module2.ipynb\" target=\"_parent\"><img src=\"https://colab.research.google.com/assets/colab-badge.svg\" alt=\"Open In Colab\"/></a>"
      ]
    },
    {
      "cell_type": "markdown",
      "source": [
        "**Step 1: Integrate AST for Python Explanation**\n",
        "\n",
        "Goal:\n",
        "Allow the app to analyze and explain Python code using Abstract Syntax Trees (AST).\n",
        "\n",
        "Explanation:\n",
        "\n",
        "The AST (Abstract Syntax Tree) module in Python helps you break down code into its logical structure — functions, loops, variables, classes, etc.\n",
        "\n",
        "When a user pastes Python code, the AST parser:\n",
        "\n",
        "Reads the code into a syntax tree.\n",
        "\n",
        "Traverses nodes like FunctionDef, If, For, Assign, etc.\n",
        "\n",
        "Produces an explanation of what the code does in plain English.\n",
        "\n",
        "This feature gives users a clear and educational breakdown of their code’s logic."
      ],
      "metadata": {
        "id": "KNELLyyyzcbQ"
      }
    },
    {
      "cell_type": "code",
      "execution_count": 1,
      "metadata": {
        "id": "QV7zg6iJ_Z14"
      },
      "outputs": [],
      "source": [
        "!pip install --quiet transformers gradio accelerate sentencepiece\n",
        "import ast\n",
        "import re\n",
        "import gradio as gr\n",
        "from typing import Optional\n",
        "\n",
        "MODEL_CACHE = {}   # cache for loaded models\n"
      ]
    },
    {
      "cell_type": "markdown",
      "source": [
        "**Step 2: Implement Model (CodeBERT) for JS & Solidity**\n",
        "\n",
        "Goal:\n",
        "Enable AI-powered code explanation for JavaScript and Solidity code using CodeBERT (a transformer-based model trained on code).\n",
        "\n",
        "Explanation:\n",
        "\n",
        "CodeBERT is a pre-trained model from Microsoft that understands code syntax and semantics across multiple languages.\n",
        "\n",
        "While Python uses AST for explanation, CodeBERT is used to:\n",
        "\n",
        "Explain JS and Solidity code.\n",
        "\n",
        "Optionally generate short summaries or similar code snippets.\n",
        "\n",
        "When a user enters JavaScript or Solidity code:\n",
        "\n",
        "The model tokenizes the input code.\n",
        "\n",
        "It predicts embeddings and decodes them into a natural language summary.\n",
        "\n",
        "The output gives insights like: “This code defines a smart contract that stores user balances.”"
      ],
      "metadata": {
        "id": "_0pvDPFdzibo"
      }
    },
    {
      "cell_type": "code",
      "source": [
        "def explain_python_ast(code: str) -> str:\n",
        "    \"\"\"\n",
        "    Produce a readable explanation of Python code using AST parsing.\n",
        "    Explains top-level constructs (functions, classes, imports, loops, etc.)\n",
        "    \"\"\"\n",
        "    try:\n",
        "        tree = ast.parse(code)\n",
        "    except Exception as e:\n",
        "        return f\"❌ Could not parse code as Python AST: {e}\"\n",
        "\n",
        "    explanations = []\n",
        "\n",
        "    def explain_args(args):\n",
        "        return \", \".join([arg.arg for arg in args.args])\n",
        "\n",
        "    for node in tree.body:\n",
        "        if isinstance(node, ast.FunctionDef):\n",
        "            name = node.name\n",
        "            args = explain_args(node.args)\n",
        "            doc = ast.get_docstring(node) or \"\"\n",
        "            explanations.append(f\"- Function `{name}({args})` defined. {('Doc: '+doc) if doc else ''}\")\n",
        "\n",
        "            for sub in ast.walk(node):\n",
        "                if isinstance(sub, ast.For):\n",
        "                    explanations.append(f\"  * Inside `{name}`: for-loop iterates over {getattr(ast, 'unparse', lambda x:'iterable')(sub.iter)}.\")\n",
        "                if isinstance(sub, ast.While):\n",
        "                    explanations.append(f\"  * Inside `{name}`: while-loop with condition {getattr(ast, 'unparse', lambda x:'condition')(sub.test)}.\")\n",
        "                if isinstance(sub, ast.If):\n",
        "                    explanations.append(f\"  * Inside `{name}`: if-statement checks {getattr(ast, 'unparse', lambda x:'condition')(sub.test)}.\")\n",
        "\n",
        "        elif isinstance(node, ast.ClassDef):\n",
        "            explanations.append(f\"- Class `{node.name}` defined.\")\n",
        "        elif isinstance(node, ast.Import):\n",
        "            names = \", \".join([alias.name for alias in node.names])\n",
        "            explanations.append(f\"- Imported module(s): {names}.\")\n",
        "        elif isinstance(node, ast.ImportFrom):\n",
        "            mod = node.module or \"\"\n",
        "            names = \", \".join([alias.name for alias in node.names])\n",
        "            explanations.append(f\"- From `{mod}` import: {names}.\")\n",
        "        elif isinstance(node, ast.Assign):\n",
        "            targets = \", \".join([ast.unparse(t) for t in node.targets]) if hasattr(ast, \"unparse\") else \"variable\"\n",
        "            explanations.append(f\"- Assignment to `{targets}`.\")\n",
        "        elif isinstance(node, ast.Expr):\n",
        "            if isinstance(node.value, ast.Constant) and isinstance(node.value.value, str):\n",
        "                explanations.append(f\"- Docstring/comment: {node.value.value[:80]!r}...\")\n",
        "        else:\n",
        "            explanations.append(f\"- Top-level {node.__class__.__name__} encountered.\")\n",
        "\n",
        "    return \"Python AST Explanation:\\n\" + \"\\n\".join(explanations)\n"
      ],
      "metadata": {
        "id": "R_XgswmuAYC6"
      },
      "execution_count": 2,
      "outputs": []
    },
    {
      "cell_type": "markdown",
      "source": [
        "**Step 3: Implement Model (Phi / Gemma) for Python Code Generation**\n",
        "\n",
        "Goal:\n",
        "Enable AI-assisted Python code generation — from user prompts — using small efficient models like Phi or Gemma.\n",
        "\n",
        "Explanation:\n",
        "\n",
        "Phi and Gemma are lightweight generative AI models optimized for reasoning and text/code generation.\n",
        "\n",
        "Here, the user can input prompts like:\n",
        "\n",
        "“Write a Python function to check if a number is prime.”\n",
        "\n",
        "“Generate code for sorting a list using bubble sort.”\n",
        "\n",
        "The model then produces valid Python code snippets as output."
      ],
      "metadata": {
        "id": "ugyWaSBwzrIj"
      }
    },
    {
      "cell_type": "code",
      "source": [
        "def get_generator(model_key: str):\n",
        "    \"\"\"\n",
        "    Lazily load text-generation model based on key.\n",
        "    \"\"\"\n",
        "    from transformers import pipeline, AutoTokenizer, AutoModelForCausalLM\n",
        "    import torch\n",
        "\n",
        "    device = 0 if torch.cuda.is_available() else -1\n",
        "\n",
        "    if model_key in MODEL_CACHE:\n",
        "        return MODEL_CACHE[model_key]\n",
        "\n",
        "    model_name = {\n",
        "        \"phi\": \"microsoft/Phi-3-mini-4k-instruct\",\n",
        "        \"codegen\": \"Salesforce/codegen-350M-mono\"\n",
        "    }.get(model_key)\n",
        "\n",
        "    if not model_name:\n",
        "        raise ValueError(\"Unknown model key\")\n",
        "\n",
        "    pipe = pipeline(\"text-generation\", model=model_name, tokenizer=model_name, device=device, max_length=512)\n",
        "    MODEL_CACHE[model_key] = pipe\n",
        "    return pipe\n"
      ],
      "metadata": {
        "id": "vEQu0_5QBtS_"
      },
      "execution_count": 3,
      "outputs": []
    },
    {
      "cell_type": "markdown",
      "source": [
        "**Step 4 :Adding UI Toggles Between “Generation” and “Explanation”**\n",
        "\n",
        "Goal:\n",
        "Provide a clean and interactive user interface to switch between modes:\n",
        "\n",
        "Code Generation Mode\n",
        "\n",
        "Code Explanation Mode\n",
        "\n",
        "Explanation:\n",
        "\n",
        "A simple UI toggle (e.g., gr.Radio or gr.Tabs in Gradio, or st.toggle in Streamlit) lets users choose:\n",
        "\n",
        "“Generate new code”\n",
        "\n",
        "“Explain existing code”\n",
        "\n",
        "Based on the selection:\n",
        "\n",
        "Input type changes (prompt or code).\n",
        "\n",
        "Output changes (generated code or explanation).\n",
        "\n",
        "The system dynamically routes requests to:\n",
        "\n",
        "AST module → for Python explanation\n",
        "\n",
        "CodeBERT → for JS/Solidity\n",
        "\n",
        "Phi/Gemma → for Python generation"
      ],
      "metadata": {
        "id": "jrhzgOC4z0OM"
      }
    },
    {
      "cell_type": "code",
      "source": [
        "def model_generate_text(lang: str, mode: str, user_input: str) -> str:\n",
        "    lang = lang.lower()\n",
        "    mode = mode.lower()\n",
        "\n",
        "    model_key = \"phi\" if lang == \"python\" else \"codegen\"\n",
        "    gen = get_generator(model_key)\n",
        "\n",
        "    if mode == \"generate\":\n",
        "        prompt = f\"Write only {lang} code for the following instruction:\\n{user_input}\\n\\n### {lang} code:\\n\"\n",
        "    else:\n",
        "        prompt = f\"Explain the following {lang} code:\\n{user_input}\\n\\nExplanation:\\n\"\n",
        "\n",
        "    try:\n",
        "        out = gen(prompt, max_new_tokens=256, do_sample=False, temperature=0.2)\n",
        "        text = out[0][\"generated_text\"]\n",
        "        text = text.replace(prompt, \"\").strip()\n",
        "        text = re.sub(r\"```(?:\\w+)?\", \"\", text)\n",
        "        return text\n",
        "    except Exception as e:\n",
        "        return f\"❌ Model generation error: {e}\"\n"
      ],
      "metadata": {
        "id": "hFpjvmMYOkDC"
      },
      "execution_count": 4,
      "outputs": []
    },
    {
      "cell_type": "markdown",
      "source": [
        "**Step 5: Integrate with User Authentication**\n",
        "\n",
        "Goal:\n",
        "Ensure that only logged-in users can access the AI Code Generation/Explanation page.\n",
        "\n",
        "Explanation:\n",
        "\n",
        "After login (from Module 1), the user receives a JWT token.\n",
        "\n",
        "This token is verified before loading the AI tool page.\n",
        "\n",
        "Once verified:\n",
        "\n",
        "The dashboard grants access to the code generation/explanation features.\n",
        "\n",
        "The system personalizes based on user’s role (Admin/Reader) and content preferences.\n",
        "\n",
        "Example personalization:\n",
        "\n",
        "Reader: Only explain or view code.\n",
        "\n",
        "Admin: Can generate or upload datasets for models."
      ],
      "metadata": {
        "id": "5M_8NSUx0Bld"
      }
    },
    {
      "cell_type": "code",
      "source": [
        "with gr.Blocks(title=\"CodeGenie — Module 2\") as demo:\n",
        "    gr.Markdown(\"# 🧠 CodeGenie: Code Generation and Explanation\")\n",
        "\n",
        "    with gr.Row():\n",
        "        with gr.Column():\n",
        "            lang = gr.Dropdown([\"Python\", \"JavaScript\", \"Solidity\"], label=\"Language\", value=\"Python\")\n",
        "            mode = gr.Radio([\"Generate\", \"Explain\"], label=\"Mode\", value=\"Generate\")\n",
        "            use_ast = gr.Checkbox(label=\"Use AST for Python explanation\", value=True)\n",
        "            user_input = gr.Textbox(label=\"Prompt or Code\", lines=8)\n",
        "            run_btn = gr.Button(\"Run 🚀\")\n",
        "        with gr.Column():\n",
        "            output = gr.Textbox(label=\"Output\", lines=20)\n",
        "\n",
        "    def handle_run(lang, mode, ast_flag, text):\n",
        "        if not text.strip():\n",
        "            return \"⚠️ Please enter some input.\"\n",
        "        if mode == \"explain\" and lang.lower() == \"python\" and ast_flag:\n",
        "            ast_part = explain_python_ast(text)\n",
        "            model_part = model_generate_text(\"python\", \"explain\", text)\n",
        "            return f\"{ast_part}\\n\\n---\\n\\nModel-based Explanation:\\n{model_part}\"\n",
        "        return model_generate_text(lang, mode, text)\n",
        "\n",
        "    run_btn.click(handle_run, [lang, mode, use_ast, user_input], [output])\n",
        "\n",
        "demo.launch(share=True)\n"
      ],
      "metadata": {
        "id": "_9lhALxf-Ytp",
        "colab": {
          "base_uri": "https://localhost:8080/",
          "height": 611
        },
        "outputId": "b1499f8f-8228-46e9-fdd2-996306cdf194"
      },
      "execution_count": 6,
      "outputs": [
        {
          "output_type": "stream",
          "name": "stdout",
          "text": [
            "Colab notebook detected. To show errors in colab notebook, set debug=True in launch()\n",
            "* Running on public URL: https://cc525684be4b6da85f.gradio.live\n",
            "\n",
            "This share link expires in 1 week. For free permanent hosting and GPU upgrades, run `gradio deploy` from the terminal in the working directory to deploy to Hugging Face Spaces (https://huggingface.co/spaces)\n"
          ]
        },
        {
          "output_type": "display_data",
          "data": {
            "text/plain": [
              "<IPython.core.display.HTML object>"
            ],
            "text/html": [
              "<div><iframe src=\"https://cc525684be4b6da85f.gradio.live\" width=\"100%\" height=\"500\" allow=\"autoplay; camera; microphone; clipboard-read; clipboard-write;\" frameborder=\"0\" allowfullscreen></iframe></div>"
            ]
          },
          "metadata": {}
        },
        {
          "output_type": "execute_result",
          "data": {
            "text/plain": []
          },
          "metadata": {},
          "execution_count": 6
        }
      ]
    },
    {
      "cell_type": "markdown",
      "source": [
        "![Screenshot 2025-10-21 154630.png](data:image/png;base64,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)"
      ],
      "metadata": {
        "id": "QkYb0ONLRUhX"
      }
    }
  ]
}