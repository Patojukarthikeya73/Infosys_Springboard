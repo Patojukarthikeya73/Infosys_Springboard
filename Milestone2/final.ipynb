{
  "cells": [
    {
      "cell_type": "markdown",
      "metadata": {
        "id": "view-in-github",
        "colab_type": "text"
      },
      "source": [
        "<a href=\"https://colab.research.google.com/github/Patojukarthikeya73/Infosys_Springboard/blob/main/final_clean.ipynb\" target=\"_parent\"><img src=\"https://colab.research.google.com/assets/colab-badge.svg\" alt=\"Open In Colab\"/></a>"
      ]
    },
    {
      "cell_type": "code",
      "execution_count": null,
      "metadata": {
        "colab": {
          "base_uri": "https://localhost:8080/"
        },
        "id": "_zeVWpUQ-kt4",
        "outputId": "4fce9231-0ae2-4a7d-9aa4-65f55ae0a89e"
      },
      "outputs": [
        {
          "name": "stdout",
          "output_type": "stream",
          "text": [
            "\u001b[?25l   \u001b[90m━━━━━━━━━━━━━━━━━━━━━━━━━━━━━━━━━━━━━━━━\u001b[0m \u001b[32m0.0/52.8 kB\u001b[0m \u001b[31m?\u001b[0m eta \u001b[36m-:--:--\u001b[0m\r",
            "\u001b[2K   \u001b[90m━━━━━━━━━━━━━━━━━━━━━━━━━━━━━━━━━━━━━━━━\u001b[0m \u001b[32m52.8/52.8 kB\u001b[0m \u001b[31m2.1 MB/s\u001b[0m eta \u001b[36m0:00:00\u001b[0m\n",
            "\u001b[?25h\u001b[?25l   \u001b[90m━━━━━━━━━━━━━━━━━━━━━━━━━━━━━━━━━━━━━━━━\u001b[0m \u001b[32m0.0/1.6 MB\u001b[0m \u001b[31m?\u001b[0m eta \u001b[36m-:--:--\u001b[0m\r",
            "\u001b[2K   \u001b[91m━━━━━━━━━━━━━━━━━━━━━━━━━━━━━━━━━━━━━━━\u001b[0m\u001b[91m╸\u001b[0m \u001b[32m1.6/1.6 MB\u001b[0m \u001b[31m66.4 MB/s\u001b[0m eta \u001b[36m0:00:01\u001b[0m\r",
            "\u001b[2K   \u001b[90m━━━━━━━━━━━━━━━━━━━━━━━━━━━━━━━━━━━━━━━━\u001b[0m \u001b[32m1.6/1.6 MB\u001b[0m \u001b[31m36.0 MB/s\u001b[0m eta \u001b[36m0:00:00\u001b[0m\n",
            "\u001b[?25hEnabling notebook extension jupyter-js-widgets/extension...\n",
            "      - Validating: \u001b[32mOK\u001b[0m\n"
          ]
        }
      ],
      "source": [
        "# Setup Environment\n",
        "!pip install transformers torch matplotlib ipywidgets radon --quiet\n",
        "!jupyter nbextension enable --py widgetsnbextension\n",
        "\n"
      ]
    },
    {
      "cell_type": "code",
      "execution_count": null,
      "metadata": {
        "colab": {
          "base_uri": "https://localhost:8080/"
        },
        "id": "3hSWTS19-sml",
        "outputId": "a5a8a51d-d080-4eba-9671-9ef65aa27bfe"
      },
      "outputs": [
        {
          "name": "stdout",
          "output_type": "stream",
          "text": [
            "Colab ··········\n"
          ]
        }
      ],
      "source": [
        "# Step 2: Hugging Face Authentication\n",
        "from getpass import getpass\n",
        "\n",
        "HF_TOKEN = getpass(\"Colab \")\n"
      ]
    },
    {
      "cell_type": "code",
      "execution_count": 1,
      "metadata": {
        "id": "pVBNXGZe-zO0"
      },
      "outputs": [],
      "source": [
        "# Step 3: Select Code Generation Models\n",
        "from transformers import AutoTokenizer, AutoModelForCausalLM, pipeline\n",
        "import torch\n",
        "\n",
        "models = {\n",
        "    \"DeepSeek\": \"deepseek-ai/deepseek-coder-1.3b-instruct\",  # works only if enough VRAM\n",
        "    \"Phi-2\": \"microsoft/phi-2\",\n",
        "    \"Gemma\": \"google/gemma-2b-it\",  # may require HF Inference API\n",
        "    \"Stable-Code\": \"stabilityai/stable-code-3b\",\n",
        "    \"Replit-Code\": \"Salesforce/codegen-350M-multi\"  # safe for Free Colab\n",
        "}\n",
        "\n"
      ]
    },
    {
      "cell_type": "code",
      "execution_count": null,
      "metadata": {
        "id": "9O7kth2W_DQb"
      },
      "outputs": [],
      "source": [
        "# Function to safely load a model\n",
        "def load_model(model_name, model_id):\n",
        "    print(f\"Loading {model_name}...\")\n",
        "    tokenizer = AutoTokenizer.from_pretrained(model_id, use_auth_token=HF_TOKEN)\n",
        "    try:\n",
        "        model = AutoModelForCausalLM.from_pretrained(\n",
        "            model_id,\n",
        "            torch_dtype=torch.float16,\n",
        "            device_map=\"auto\",\n",
        "            use_auth_token=HF_TOKEN\n",
        "        )\n",
        "    except RuntimeError as e:\n",
        "        print(f\"⚠️ Could not load {model_name}: {e}\")\n",
        "        model = None\n",
        "    return tokenizer, model\n",
        "\n"
      ]
    },
    {
      "cell_type": "code",
      "execution_count": null,
      "metadata": {
        "colab": {
          "base_uri": "https://localhost:8080/",
          "height": 603,
          "referenced_widgets": [
            "f5f8ce190e634da0b8a075c298245e17",
            "cb7b1ab0b0d740b9804e5a2a2249903b",
            "48aaaf0400094adebc092ffc185b3659",
            "a7052f515e7d4c389f1f9f49e319ba5b",
            "d29e4d986e6b41e895e8ef99e304d7ee",
            "f38c802f075546fbbb8a95d1854f36c3",
            "768677bef7b045daa1b7230deeae737f",
            "f6244227f6af4faa80e928b3c8e95083",
            "afe07da39a8d40d3959e0d7c38d0d8aa",
            "afaba03d0ab34b10aa17a37e98cce747",
            "693947ecc2cf453191413e26243187fa",
            "b6522b97ed8b4ba0bcbd71e79e2d830d",
            "70d7546fd23843c0bb6c43e515ab073d",
            "cb1fd48c11f34b8390a1aac51a9d6a7c",
            "aabee19839644bc798a9a1f4d0906528",
            "75460af98e1742819af091038bdff504",
            "bd2aa1909983401d89cd302e7ed73ef4",
            "039c98bb27f348f0a32ea9526c015deb",
            "3359ee9b2ae742b29d45e4ebf9fb49d2",
            "21dd3a8249804802ba3aaef7d583798d",
            "eb100fa5959046da83d2866274a5d1c6",
            "7fedda1bfe424fa8ac6f35fa77bb7ab3",
            "5859a2edebef475e84afb0b4b4126879",
            "0ff81b38113e47a4963bbf86b0f51b66",
            "62d9a33bdf794c17967e1380a435b8d9",
            "5f483b22783a44b59d9bbf9c33370524",
            "a11e3b1bf5c44787ab58aa03291c8ae2",
            "bd7e7fe0132a40399ee8b4b6b1993e75",
            "103df3f6d70e456f9b90b940b77aa07f",
            "c36c3d6f6c754a9f9dfafdf22f6a7998",
            "14c4ef79412247319e61c38355ddf9d2",
            "7ce3f1a0cbb346e68bbebee2bfcaf53b",
            "231cfc802a164a71ae7caa0cbd21b030",
            "8393a70060704eea85d9f7dbf2afa6e5",
            "cca7b2ac41164d93a8927e26f78dfd4d",
            "51d03d3289a74704a3a3dd4438733680",
            "6ed910a4dd744a88b6c3e2d3179e4d04",
            "20d8ad723a0941859f8c55a3496054fa",
            "3948bdad5d1545179f4a348274fb0948",
            "6cc76078457d48d1a27498ea3b5ad047",
            "387325c8cd8a4c459451e2ef7b777b46",
            "7ff5a804b4f14ec9b89a5f743d71da33",
            "199a9fe149e04a9384fc3490f13e8d07",
            "7396b48b5b4f45c18ae1036c4cee18c9",
            "d1df1988c9ef4fdf901e384af668272b",
            "ee297bff2e204b9692974a8415c15ce4",
            "f5cbdd2e388b4ee4a6be2b6a7c7c95e8",
            "e99f6f32d5c64ed6a37e4b9eb247f7bf",
            "b3a323d1378e4d5a8548c24c1782b532",
            "d08cf5b0f3924d89a41f77552af70941",
            "b4e501708d774707a44ed744445170ab",
            "a605e8e95d6f433bb81a9d062af3c45b",
            "c7d2585413c440b7b89d102d016ad892",
            "58a4d57caf5a4245b31be2837ce19502",
            "924f2d71700c446280db70856b998946",
            "5546c7063eec408ca10c93f2dcdb5014",
            "986c76ac2659444a87a975517386e02c",
            "78c9aaabcda448e098af9d6a6495bfc9",
            "f3f5aa3f1bb9432589a3848e5cbf9542",
            "1c0787dbdb2849e298a6050e2399f78d",
            "f10a568fdee945548cc6efd98cee3774",
            "34d88103576648d88f8e55d4df5afe2a",
            "70c5d38726ba4aa894d21d8fd259ebb1",
            "ee37c35539584f5e9e9c2b1c0c883354",
            "1c855d61248442f6b5b80a5896327c63",
            "1b792c1d13f44d27841df75a5757244b",
            "7768351e87414b0496b8d2caedd29afa",
            "01a6241a6e934daa86c995f10b6537e5",
            "aeaf08306e044b08b533a62b842dea0d",
            "fc5f62eb66714f6e9110e68fa2281326",
            "6c1668e058214df6b55bec99e6f80fbc",
            "946c3bb561204fd195589f334d1a5876",
            "65d30238b6c64a409cf4b568c39d4289",
            "558d0ba28b0542dbb3222100046fa12c",
            "de833107c38b4cd0ac5615ae7829077d",
            "01c2235459534f4ca63bbda0ff24b75d",
            "350c12c8f0684306b0e2efef76f3faf3",
            "8419f6ef117e4ccbb7b8942d3c02ac26",
            "8c1cbe105fa246b48985ac18a3920448",
            "02175b48522e48feb4d786ad3b10cfc8",
            "58ccf74449554bb2bb1d4cfcff8dc081",
            "8169bb161a2743d7b7624ca91f5e185a",
            "d8b6d46547524ab08f39dd5a4ec50e10",
            "f8c2dd5da9e64657ad37b45a7647a761",
            "51be90ce5d074f7099927c2574a6ecab",
            "7521e4c73ed2475689983c209b904b8a",
            "917b64136c9844599bfe141cf06b73f9",
            "2c3b421e57b542dab53153d985757351",
            "2fcc7860711249a3a6ad966ac7325964",
            "262f0f2eeb144bc9b8c0a72da722510b",
            "32d5a151a88d43cf8c91ffe42b1c6535",
            "54654718c43247eba58f86962780a260",
            "2a2179dfd44e4ffa84f53bcd3ccc0005",
            "980338c21f0f46d285c9af8719e16083",
            "960d9e7bd49b4a36bac29bc936b14c5a",
            "920317f711854cd3976c1d6c6cb149ed",
            "99d38b9e792840dcbbbbac1b033553ab",
            "00526434da4e4e0c94a8a5ca41c1e8db",
            "92ac6e1f25304f7491cd97c94aa10dcc"
          ]
        },
        "id": "KbwKEKSo_Pdt",
        "outputId": "a04ce360-43a5-4490-edfe-50076ffd1f2e"
      },
      "outputs": [
        {
          "data": {
            "application/vnd.jupyter.widget-view+json": {
              "model_id": "f5f8ce190e634da0b8a075c298245e17",
              "version_major": 2,
              "version_minor": 0
            },
            "text/plain": [
              "tokenizer_config.json:   0%|          | 0.00/240 [00:00<?, ?B/s]"
            ]
          },
          "metadata": {},
          "output_type": "display_data"
        },
        {
          "data": {
            "application/vnd.jupyter.widget-view+json": {
              "model_id": "b6522b97ed8b4ba0bcbd71e79e2d830d",
              "version_major": 2,
              "version_minor": 0
            },
            "text/plain": [
              "vocab.json: 0.00B [00:00, ?B/s]"
            ]
          },
          "metadata": {},
          "output_type": "display_data"
        },
        {
          "data": {
            "application/vnd.jupyter.widget-view+json": {
              "model_id": "5859a2edebef475e84afb0b4b4126879",
              "version_major": 2,
              "version_minor": 0
            },
            "text/plain": [
              "merges.txt: 0.00B [00:00, ?B/s]"
            ]
          },
          "metadata": {},
          "output_type": "display_data"
        },
        {
          "data": {
            "application/vnd.jupyter.widget-view+json": {
              "model_id": "8393a70060704eea85d9f7dbf2afa6e5",
              "version_major": 2,
              "version_minor": 0
            },
            "text/plain": [
              "tokenizer.json: 0.00B [00:00, ?B/s]"
            ]
          },
          "metadata": {},
          "output_type": "display_data"
        },
        {
          "data": {
            "application/vnd.jupyter.widget-view+json": {
              "model_id": "d1df1988c9ef4fdf901e384af668272b",
              "version_major": 2,
              "version_minor": 0
            },
            "text/plain": [
              "added_tokens.json: 0.00B [00:00, ?B/s]"
            ]
          },
          "metadata": {},
          "output_type": "display_data"
        },
        {
          "data": {
            "application/vnd.jupyter.widget-view+json": {
              "model_id": "5546c7063eec408ca10c93f2dcdb5014",
              "version_major": 2,
              "version_minor": 0
            },
            "text/plain": [
              "special_tokens_map.json:   0%|          | 0.00/90.0 [00:00<?, ?B/s]"
            ]
          },
          "metadata": {},
          "output_type": "display_data"
        },
        {
          "data": {
            "application/vnd.jupyter.widget-view+json": {
              "model_id": "7768351e87414b0496b8d2caedd29afa",
              "version_major": 2,
              "version_minor": 0
            },
            "text/plain": [
              "config.json:   0%|          | 0.00/999 [00:00<?, ?B/s]"
            ]
          },
          "metadata": {},
          "output_type": "display_data"
        },
        {
          "data": {
            "application/vnd.jupyter.widget-view+json": {
              "model_id": "8419f6ef117e4ccbb7b8942d3c02ac26",
              "version_major": 2,
              "version_minor": 0
            },
            "text/plain": [
              "pytorch_model.bin:   0%|          | 0.00/797M [00:00<?, ?B/s]"
            ]
          },
          "metadata": {},
          "output_type": "display_data"
        },
        {
          "data": {
            "application/vnd.jupyter.widget-view+json": {
              "model_id": "2fcc7860711249a3a6ad966ac7325964",
              "version_major": 2,
              "version_minor": 0
            },
            "text/plain": [
              "model.safetensors:   0%|          | 0.00/797M [00:00<?, ?B/s]"
            ]
          },
          "metadata": {},
          "output_type": "display_data"
        },
        {
          "name": "stderr",
          "output_type": "stream",
          "text": [
            "Some weights of the model checkpoint at Salesforce/codegen-350M-mono were not used when initializing CodeGenForCausalLM: ['transformer.h.0.attn.causal_mask', 'transformer.h.1.attn.causal_mask', 'transformer.h.10.attn.causal_mask', 'transformer.h.11.attn.causal_mask', 'transformer.h.12.attn.causal_mask', 'transformer.h.13.attn.causal_mask', 'transformer.h.14.attn.causal_mask', 'transformer.h.15.attn.causal_mask', 'transformer.h.16.attn.causal_mask', 'transformer.h.17.attn.causal_mask', 'transformer.h.18.attn.causal_mask', 'transformer.h.19.attn.causal_mask', 'transformer.h.2.attn.causal_mask', 'transformer.h.3.attn.causal_mask', 'transformer.h.4.attn.causal_mask', 'transformer.h.5.attn.causal_mask', 'transformer.h.6.attn.causal_mask', 'transformer.h.7.attn.causal_mask', 'transformer.h.8.attn.causal_mask', 'transformer.h.9.attn.causal_mask']\n",
            "- This IS expected if you are initializing CodeGenForCausalLM from the checkpoint of a model trained on another task or with another architecture (e.g. initializing a BertForSequenceClassification model from a BertForPreTraining model).\n",
            "- This IS NOT expected if you are initializing CodeGenForCausalLM from the checkpoint of a model that you expect to be exactly identical (initializing a BertForSequenceClassification model from a BertForSequenceClassification model).\n",
            "Device set to use cpu\n"
          ]
        },
        {
          "name": "stdout",
          "output_type": "stream",
          "text": [
            "Write a Python function to calculate factorial recursively.\n",
            "\n",
            "This program will take a user-input as an integer x, and calculate factorial recusively from this number, using recurrence rules of mathematics.\n",
            "\n",
            "The recursion works in two different ways.\n",
            "(1) It supports loops. The outer loop is limited to looping up to the value of the passed argument. The inner loop is limited to the recursion of the outer loop till the the value of the argument or value of the outer loop is reached.\n",
            "(2) It only allows to use loop boundaries within the while loop.\n",
            "\n",
            "# For this project you use following recursion:\n",
            "\n",
            "a = 0 # initial value\n",
            "x = int(input(\"Please enter an integer (or 'q'\n"
          ]
        }
      ],
      "source": [
        "# Step 5: Code Generation Pipeline\n",
        "from transformers import AutoTokenizer, AutoModelForCausalLM, pipeline\n",
        "\n",
        "model_name = \"Salesforce/codegen-350M-mono\"\n",
        "\n",
        "tokenizer = AutoTokenizer.from_pretrained(model_name)\n",
        "model = AutoModelForCausalLM.from_pretrained(model_name)\n",
        "\n",
        "generator = pipeline(\n",
        "    \"text-generation\",\n",
        "    model=model,\n",
        "    tokenizer=tokenizer\n",
        ")\n",
        "\n",
        "prompt = \"Write a Python function to calculate factorial recursively.\"\n",
        "\n",
        "output = generator(\n",
        "    prompt,\n",
        "    max_new_tokens=150,\n",
        "    pad_token_id=tokenizer.eos_token_id\n",
        ")\n",
        "\n",
        "print(output[0]['generated_text'])\n"
      ]
    },
    {
      "cell_type": "code",
      "execution_count": null,
      "metadata": {
        "colab": {
          "base_uri": "https://localhost:8080/"
        },
        "id": "BtPvpgkQAHki",
        "outputId": "097eb603-244e-41cd-f60e-6fec3490be79"
      },
      "outputs": [
        {
          "name": "stdout",
          "output_type": "stream",
          "text": [
            "----- Extracted Python Code -----\n",
            "from this number, using recurrence rules of mathematics.\n",
            "Error computing Cyclomatic Complexity: invalid syntax (<unknown>, line 1)\n",
            "Error computing Maintainability Index: invalid syntax (<unknown>, line 1)\n",
            "\n",
            "Lines of Code (LOC): 1\n"
          ]
        }
      ],
      "source": [
        "# Metrics Complexity\n",
        "\n",
        "import re\n",
        "from radon.complexity import cc_visit\n",
        "from radon.metrics import mi_visit\n",
        "from radon.raw import analyze\n",
        "\n",
        "generated_output = output[0]['generated_text']\n",
        "\n",
        "# Loosened pattern for detecting Python-looking code blocks\n",
        "code_pattern = re.findall(r\"(def .*?:|class .*?:|import .*|from .*|if .*:|for .*:|while .*:|try:|except.*:|return .*)\", generated_output)\n",
        "\n",
        "python_code = \"\\n\".join(code_pattern)\n",
        "\n",
        "if not python_code.strip():\n",
        "    print(\"⚠️ No valid Python code detected. Try refining your model prompt.\")\n",
        "else:\n",
        "    print(\"----- Extracted Python Code -----\")\n",
        "    print(python_code)\n",
        "\n",
        "    # Metrics\n",
        "    try:\n",
        "        cc = cc_visit(python_code)\n",
        "        print(\"\\nCyclomatic Complexity per function/class:\")\n",
        "        for item in cc:\n",
        "            print(f\"{item.name}: {item.complexity}\")\n",
        "    except Exception as e:\n",
        "        print(\"Error computing Cyclomatic Complexity:\", e)\n",
        "\n",
        "    try:\n",
        "        mi = mi_visit(python_code, True)\n",
        "        print(f\"\\nMaintainability Index: {mi}\")\n",
        "    except Exception as e:\n",
        "        print(\"Error computing Maintainability Index:\", e)\n",
        "\n",
        "    try:\n",
        "        raw_metrics = analyze(python_code)\n",
        "        print(f\"\\nLines of Code (LOC): {raw_metrics.loc}\")\n",
        "    except Exception as e:\n",
        "        print(\"Error computing LOC:\", e)\n"
      ]
    },
    {
      "cell_type": "code",
      "execution_count": null,
      "metadata": {
        "colab": {
          "base_uri": "https://localhost:8080/"
        },
        "id": "ve9BmNd_FAJh",
        "outputId": "748ddfeb-9301-47bd-973c-30207b3a210d"
      },
      "outputs": [
        {
          "name": "stderr",
          "output_type": "stream",
          "text": [
            "Some weights of the model checkpoint at Salesforce/codegen-350M-mono were not used when initializing CodeGenForCausalLM: ['transformer.h.0.attn.causal_mask', 'transformer.h.1.attn.causal_mask', 'transformer.h.10.attn.causal_mask', 'transformer.h.11.attn.causal_mask', 'transformer.h.12.attn.causal_mask', 'transformer.h.13.attn.causal_mask', 'transformer.h.14.attn.causal_mask', 'transformer.h.15.attn.causal_mask', 'transformer.h.16.attn.causal_mask', 'transformer.h.17.attn.causal_mask', 'transformer.h.18.attn.causal_mask', 'transformer.h.19.attn.causal_mask', 'transformer.h.2.attn.causal_mask', 'transformer.h.3.attn.causal_mask', 'transformer.h.4.attn.causal_mask', 'transformer.h.5.attn.causal_mask', 'transformer.h.6.attn.causal_mask', 'transformer.h.7.attn.causal_mask', 'transformer.h.8.attn.causal_mask', 'transformer.h.9.attn.causal_mask']\n",
            "- This IS expected if you are initializing CodeGenForCausalLM from the checkpoint of a model trained on another task or with another architecture (e.g. initializing a BertForSequenceClassification model from a BertForPreTraining model).\n",
            "- This IS NOT expected if you are initializing CodeGenForCausalLM from the checkpoint of a model that you expect to be exactly identical (initializing a BertForSequenceClassification model from a BertForSequenceClassification model).\n",
            "Device set to use cpu\n",
            "Setting `pad_token_id` to `eos_token_id`:50256 for open-end generation.\n",
            "Setting `pad_token_id` to `eos_token_id`:50256 for open-end generation.\n"
          ]
        },
        {
          "name": "stdout",
          "output_type": "stream",
          "text": [
            "\n",
            "Prompt 1: Write a Python program to add 5 and 4\n",
            "------------------------------------------------------------\n",
            "Write only Python code for: Write a Python program to add 5 and 4 to a list.\n",
            "        # Hint: Try to solve this with a single line of code and avoid using input or print.\n",
            "\n",
            "        # Add 5 to list\n",
            "        list_of_numbers.append(5)\n",
            "        # Add 4 to list\n",
            "        list_of_numbers.append(4)\n",
            "        # Print the list\n",
            "        print(list_of_numbers)\n",
            "\n",
            "    # Print the length of the list\n",
            "    print(\"The length of the list is:\", len(list_of_numbers))\n",
            "\n",
            "    # Print the first element of the list\n",
            "    print(\"The first element of the list is:\", list_of_numbers[0])\n",
            "\n",
            "    # Print\n",
            "\n"
          ]
        },
        {
          "name": "stderr",
          "output_type": "stream",
          "text": [
            "Setting `pad_token_id` to `eos_token_id`:50256 for open-end generation.\n"
          ]
        },
        {
          "name": "stdout",
          "output_type": "stream",
          "text": [
            "\n",
            "Prompt 2: Write a Python function to check if a number is prime\n",
            "------------------------------------------------------------\n",
            "Write only Python code for: Write a Python function to check if a number is prime.\n",
            "#\n",
            "# The function should return True if the number is a prime number, and False if it is not.\n",
            "#\n",
            "#\n",
            "#\n",
            "# Example 1:\n",
            "#\n",
            "#\n",
            "# Input: n = 10\n",
            "# Output: true\n",
            "# Explanation: 10 is a prime number.\n",
            "# Example 2:\n",
            "#\n",
            "#\n",
            "# Input: n = 14\n",
            "# Output: false\n",
            "# Explanation: 14 is not a prime number.\n",
            "#\n",
            "#\n",
            "#\n",
            "# Constraints:\n",
            "#\n",
            "#\n",
            "# 1 <= n <= 10^5\n",
            "#\n",
            "#\n",
            "#\n",
            "\n",
            "# @lc tags=array;recursion\n",
            "\n",
            "# @lc imports=start\n",
            "from imports import\n",
            "\n"
          ]
        },
        {
          "name": "stderr",
          "output_type": "stream",
          "text": [
            "Setting `pad_token_id` to `eos_token_id`:50256 for open-end generation.\n"
          ]
        },
        {
          "name": "stdout",
          "output_type": "stream",
          "text": [
            "\n",
            "Prompt 3: Write a Python code to reverse a string\n",
            "------------------------------------------------------------\n",
            "Write only Python code for: Write a Python code to reverse a string.\n",
            "\n",
            "The Python code is given as a string of space separated words.\n",
            "\n",
            "For example, if the string is \"my name is john\", then your code should return\n",
            "\"john is my name is john\"\n",
            "\n",
            "Note: If you use the built-in function str.swapcase(), it will return a\n",
            "string of lowercase and uppercase letters.\n",
            "\"\"\"\n",
            "\n",
            "def reverse_string(string):\n",
            "    \"\"\"\n",
            "    >>> reverse_string('my name is john')\n",
            "   'my name is john'\n",
            "    >>> reverse_string('hello world')\n",
            "    'helloworld'\n",
            "    >>> reverse_string('my name is john')\n",
            "   'my name is john'\n",
            "\n"
          ]
        },
        {
          "name": "stderr",
          "output_type": "stream",
          "text": [
            "Setting `pad_token_id` to `eos_token_id`:50256 for open-end generation.\n"
          ]
        },
        {
          "name": "stdout",
          "output_type": "stream",
          "text": [
            "\n",
            "Prompt 4: Write a Python program to calculate factorial using recursion\n",
            "------------------------------------------------------------\n",
            "Write only Python code for: Write a Python program to calculate factorial using recursion\n",
            "print(\"Factorial of 5 is\", factorial(5))\n",
            "\n",
            "# Write a Python program to calculate the sum of the numbers in a list.\n",
            "print(\"Sum of numbers in a list is\", sum(list))\n",
            "\n",
            "# Write a Python program to find the cube root of a number.\n",
            "print(\"Cube root of\", 1000, \"is\", cube_root(1000))\n",
            "\n",
            "# Write a Python program to find the cube root of a number.\n",
            "print(\"Cube root of\", 1000, \"is\", cube_root(1000))\n",
            "\n",
            "# Write a Python program to find the cube root of a number.\n",
            "print(\"Cube root of\", 1000, \"is\", cube_root(1000))\n",
            "\n"
          ]
        },
        {
          "name": "stderr",
          "output_type": "stream",
          "text": [
            "Setting `pad_token_id` to `eos_token_id`:50256 for open-end generation.\n"
          ]
        },
        {
          "name": "stdout",
          "output_type": "stream",
          "text": [
            "\n",
            "Prompt 5: Write a Python script to sort a list of numbers\n",
            "------------------------------------------------------------\n",
            "Write only Python code for: Write a Python script to sort a list of numbers.\n",
            "# The list data type should be mutable and in the same order as it contains numbers.\n",
            "# Modify the script so that it prints the numbers in reverse order.\n",
            "# Hint: Use a for-loop to iterate over the list.\n",
            "\n",
            "# Solution:\n",
            "\n",
            "# def sort_list(list):\n",
            "#     for i in range(len(list)-1, -1, -1):\n",
            "#         for j in range(i):\n",
            "#             if list[j] > list[j+1]:\n",
            "#                 list[j], list[j+1] = list[j+1], list[j]\n",
            "#     return list\n",
            "\n",
            "# def main():\n",
            "\n"
          ]
        },
        {
          "name": "stderr",
          "output_type": "stream",
          "text": [
            "Setting `pad_token_id` to `eos_token_id`:50256 for open-end generation.\n"
          ]
        },
        {
          "name": "stdout",
          "output_type": "stream",
          "text": [
            "\n",
            "Prompt 6: Write a Python function to count vowels in a string\n",
            "------------------------------------------------------------\n",
            "Write only Python code for: Write a Python function to count vowels in a string.\n",
            "\n",
            "The function should return an integer value indicating how many vowels are present in the input string.\n",
            "\n",
            "The function accepts following parameters:\n",
            "\n",
            "s: The string to analyze.\n",
            "\n",
            "vowels: A string of lower case English letters.\n",
            "\n",
            "Example\n",
            "\n",
            "For s = \"hello\", vowels = \"a\", the output should be\n",
            "countVowels(s, vowels) = 2.\n",
            "\n",
            "For s = \"leetcode\", vowels = \"e\", the output should be\n",
            "countVowels(s, vowels) = 0.\n",
            "\n",
            "For s = \"python\", vowels = \"o\", the output should be\n",
            "countVowels(s, vowels\n",
            "\n"
          ]
        },
        {
          "name": "stderr",
          "output_type": "stream",
          "text": [
            "Setting `pad_token_id` to `eos_token_id`:50256 for open-end generation.\n"
          ]
        },
        {
          "name": "stdout",
          "output_type": "stream",
          "text": [
            "\n",
            "Prompt 7: Write a Python code to find the maximum number in a list\n",
            "------------------------------------------------------------\n",
            "Write only Python code for: Write a Python code to find the maximum number in a list\n",
            "#\n",
            "# Input:\n",
            "# The first line contains an integer T, the number of test cases.\n",
            "# The next T lines contains an integer N, the number of elements in the list.\n",
            "#\n",
            "# Output:\n",
            "# For each test case, print the maximum number in the list.\n",
            "#\n",
            "# Constraints:\n",
            "# 1 <= T <= 10^4\n",
            "# 1 <= N <= 10^5\n",
            "#\n",
            "# Example:\n",
            "# Input:\n",
            "# 3\n",
            "# 1 2 3\n",
            "# 5\n",
            "# 1 2 3 4 5\n",
            "#\n",
            "# Output:\n",
            "# 4\n",
            "#\n",
            "# Explanation:\n",
            "# The maximum number in the list is 4.\n",
            "#\n",
            "# Example 2:\n",
            "\n"
          ]
        },
        {
          "name": "stderr",
          "output_type": "stream",
          "text": [
            "Setting `pad_token_id` to `eos_token_id`:50256 for open-end generation.\n"
          ]
        },
        {
          "name": "stdout",
          "output_type": "stream",
          "text": [
            "\n",
            "Prompt 8: Write a Python function to check if a string is a palindrome\n",
            "------------------------------------------------------------\n",
            "Write only Python code for: Write a Python function to check if a string is a palindrome.\n",
            "#\n",
            "# The function should return True if the string is a palindrome and False otherwise.\n",
            "#\n",
            "# Note: A palindrome is a string that reads the same backward as forward.\n",
            "#\n",
            "# Examples:\n",
            "#\n",
            "# palindrome(\"A man, a plan, a canal: Panama\") # True\n",
            "# palindrome(\"race a car\") # True\n",
            "# palindrome(\"race a car\") # False\n",
            "# palindrome(\"race a car\") # False\n",
            "#\n",
            "#\n",
            "#\n",
            "# def palindrome(string):\n",
            "#     return string == string[::-1]\n",
            "#\n",
            "#\n",
            "# print(palindrome(\"A man, a plan\n",
            "\n"
          ]
        },
        {
          "name": "stderr",
          "output_type": "stream",
          "text": [
            "Setting `pad_token_id` to `eos_token_id`:50256 for open-end generation.\n"
          ]
        },
        {
          "name": "stdout",
          "output_type": "stream",
          "text": [
            "\n",
            "Prompt 9: Write a Python code to calculate area of a circle given radius\n",
            "------------------------------------------------------------\n",
            "Write only Python code for: Write a Python code to calculate area of a circle given radius\n",
            "# radius.\n",
            "#\n",
            "# Input: radius = 5\n",
            "# Output: 4.0\n",
            "# Explanation: The area of the circle is 4.0, which is the square root of 4.\n",
            "#\n",
            "# Input: radius = 2\n",
            "# Output: 2.0\n",
            "# Explanation: The area of the circle is 2.0, which is the square root of 2.\n",
            "#\n",
            "#\n",
            "# Constraints:\n",
            "#\n",
            "#\n",
            "# 1 <= radius <= 10^5\n",
            "#\n",
            "#\n",
            "#\n",
            "\n",
            "# @lc tags=math;dynamic-programming\n",
            "\n",
            "# @lc imports=start\n",
            "from imports import *\n",
            "\n",
            "# @lc imports=end\n",
            "\n",
            "# @\n",
            "\n",
            "\n",
            "Prompt 10: Write a Python function to convert Celsius to Fahrenheit\n",
            "------------------------------------------------------------\n",
            "Write only Python code for: Write a Python function to convert Celsius to Fahrenheit.\n",
            "# Write a Python function that takes a Celsius temperature and converts it to Fahrenheit.\n",
            "#\n",
            "# The function should return the converted temperature in Fahrenheit.\n",
            "#\n",
            "# Note: The function should return the temperature in Celsius.\n",
            "\n",
            "def convert_celsius_to_fahrenheit(celsius):\n",
            "    return celsius * 1.8 + 32\n",
            "\n",
            "def convert_fahrenheit_to_celsius(fahrenheit):\n",
            "    return (fahrenheit - 32) * 1.8\n",
            "\n",
            "def main():\n",
            "    print(\"Write a Python function to convert Celsius to Fahrenheit.\")\n",
            "    print(\"\\n\")\n",
            "\n",
            "    print(\"Write a Python function that takes a Celsius temperature and\n",
            "\n"
          ]
        }
      ],
      "source": [
        "# First  Interactive UI\n",
        "\n",
        "!pip install transformers ipywidgets matplotlib accelerate --quiet\n",
        "\n",
        "from transformers import pipeline\n",
        "import matplotlib.pyplot as plt\n",
        "import re\n",
        "import torch\n",
        "\n",
        "# 💡 Load lightweight model safely\n",
        "device = 0 if torch.cuda.is_available() else -1\n",
        "generator = pipeline(\n",
        "    \"text-generation\",\n",
        "    model=\"Salesforce/codegen-350M-mono\",\n",
        "    tokenizer=\"Salesforce/codegen-350M-mono\",\n",
        "    device=device\n",
        ")\n",
        "\n",
        "# 🔹 10 sample code prompts\n",
        "prompts = [\n",
        "    \"Write a Python program to add 5 and 4\",\n",
        "    \"Write a Python function to check if a number is prime\",\n",
        "    \"Write a Python code to reverse a string\",\n",
        "    \"Write a Python program to calculate factorial using recursion\",\n",
        "    \"Write a Python script to sort a list of numbers\",\n",
        "    \"Write a Python function to count vowels in a string\",\n",
        "    \"Write a Python code to find the maximum number in a list\",\n",
        "    \"Write a Python function to check if a string is a palindrome\",\n",
        "    \"Write a Python code to calculate area of a circle given radius\",\n",
        "    \"Write a Python function to convert Celsius to Fahrenheit\"\n",
        "]\n",
        "\n",
        "# 🔹 Helper to generate + score code\n",
        "def generate_code(prompt):\n",
        "    result = generator(f\"Write only Python code for: {prompt}\", max_new_tokens=150, temperature=0.3)\n",
        "    text = result[0][\"generated_text\"]\n",
        "\n",
        "    # Clean and validate\n",
        "    clean = re.sub(r\"```python|```\", \"\", text).strip()\n",
        "    score = 1 if re.search(r\"(def |print|for |if |import )\", clean) else 0\n",
        "    return clean, score\n",
        "\n",
        "scores = []\n",
        "for i, p in enumerate(prompts):\n",
        "    code, score = generate_code(p)\n",
        "    print(f\"\\nPrompt {i+1}: {p}\\n{'-'*60}\\n{code}\\n\")\n",
        "    scores.append(score)"
      ]
    },
    {
      "cell_type": "code",
      "execution_count": null,
      "metadata": {
        "colab": {
          "base_uri": "https://localhost:8080/",
          "height": 616
        },
        "id": "DdsJfrYAInTp",
        "outputId": "5ca28048-f7f8-4473-868b-f45b5fd17e0b"
      },
      "outputs": [
        {
          "data": {
            "image/png": "[encoded data removed]",
            "text/plain": [
              "<Figure size 1000x600 with 1 Axes>"
            ]
          },
          "metadata": {},
          "output_type": "display_data"
        },
        {
          "name": "stdout",
          "output_type": "stream",
          "text": [
            "\n",
            "✅ Model generated valid Python code for 9 of 10 prompts.\n",
            "📈 Accuracy: 90.0%\n"
          ]
        }
      ],
      "source": [
        "# Second Interactive UI\n",
        "!pip install transformers ipywidgets matplotlib accelerate --quiet\n",
        "\n",
        "from transformers import pipeline\n",
        "import matplotlib.pyplot as plt\n",
        "import re\n",
        "import torch\n",
        "# 🔹 Visualization\n",
        "plt.figure(figsize=(10, 6))\n",
        "plt.barh(range(len(prompts)), scores, color='lightgreen')\n",
        "plt.yticks(range(len(prompts)), [f\"Prompt {i+1}\" for i in range(len(prompts))])\n",
        "plt.xlabel(\"Code Validity (1 = Valid, 0 = Invalid)\")\n",
        "plt.title(\"Model Performance on 10 Code Prompts\")\n",
        "plt.grid(axis=\"x\", linestyle=\"--\", alpha=0.6)\n",
        "plt.show()\n",
        "\n",
        "# 🔹 Summary\n",
        "accuracy = sum(scores) / len(scores) * 100\n",
        "print(f\"\\n✅ Model generated valid Python code for {sum(scores)} of {len(prompts)} prompts.\")\n",
        "print(f\"📈 Accuracy: {accuracy:.1f}%\")"
      ]
    },
    {
      "cell_type": "code",
      "execution_count": null,
      "metadata": {
        "id": "CQi3_3AMKeUM"
      },
      "outputs": [],
      "source": []
    }
  ],
  "metadata": {
    "colab": {
      "provenance": [],
      "include_colab_link": true
    },
    "kernelspec": {
      "display_name": "Python 3",
      "name": "python3"
    },
    "language_info": {
      "name": "python"
    }
  },
  "nbformat": 4,
  "nbformat_minor": 0
}
