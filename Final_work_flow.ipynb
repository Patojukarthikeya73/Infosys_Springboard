{
  "nbformat": 4,
  "nbformat_minor": 0,
  "metadata": {
    "colab": {
      "provenance": [],
      "gpuType": "T4",
      "authorship_tag": "ABX9TyN5Nn8JnjYTCXxKWr2BDwi2",
      "include_colab_link": true
    },
    "kernelspec": {
      "name": "python3",
      "display_name": "Python 3"
    },
    "language_info": {
      "name": "python"
    },
    "accelerator": "GPU",
    "widgets": {
      "application/vnd.jupyter.widget-state+json": {
        "d48e3e9e18384e5b84c47bb57edcc329": {
          "model_module": "@jupyter-widgets/controls",
          "model_name": "HBoxModel",
          "model_module_version": "1.5.0",
          "state": {
            "_dom_classes": [],
            "_model_module": "@jupyter-widgets/controls",
            "_model_module_version": "1.5.0",
            "_model_name": "HBoxModel",
            "_view_count": null,
            "_view_module": "@jupyter-widgets/controls",
            "_view_module_version": "1.5.0",
            "_view_name": "HBoxView",
            "box_style": "",
            "children": [
              "IPY_MODEL_7ab4e248c12c45eba074ac03da27fdb6",
              "IPY_MODEL_7b685724a49b498183c88beaf7781640",
              "IPY_MODEL_298fd6c0895743448d32868776d2d5c3"
            ],
            "layout": "IPY_MODEL_084ff0616c104598a3bae1dc9b762413"
          }
        },
        "7ab4e248c12c45eba074ac03da27fdb6": {
          "model_module": "@jupyter-widgets/controls",
          "model_name": "HTMLModel",
          "model_module_version": "1.5.0",
          "state": {
            "_dom_classes": [],
            "_model_module": "@jupyter-widgets/controls",
            "_model_module_version": "1.5.0",
            "_model_name": "HTMLModel",
            "_view_count": null,
            "_view_module": "@jupyter-widgets/controls",
            "_view_module_version": "1.5.0",
            "_view_name": "HTMLView",
            "description": "",
            "description_tooltip": null,
            "layout": "IPY_MODEL_2cb832927b59479d8abbeae6ffbef66e",
            "placeholder": "​",
            "style": "IPY_MODEL_93990c6d94214c9b96980a7fd0381cf3",
            "value": "Loading checkpoint shards: 100%"
          }
        },
        "7b685724a49b498183c88beaf7781640": {
          "model_module": "@jupyter-widgets/controls",
          "model_name": "FloatProgressModel",
          "model_module_version": "1.5.0",
          "state": {
            "_dom_classes": [],
            "_model_module": "@jupyter-widgets/controls",
            "_model_module_version": "1.5.0",
            "_model_name": "FloatProgressModel",
            "_view_count": null,
            "_view_module": "@jupyter-widgets/controls",
            "_view_module_version": "1.5.0",
            "_view_name": "ProgressView",
            "bar_style": "success",
            "description": "",
            "description_tooltip": null,
            "layout": "IPY_MODEL_0d3ecf55f2f64ed4b60dc88e510b3d4b",
            "max": 2,
            "min": 0,
            "orientation": "horizontal",
            "style": "IPY_MODEL_941ddede52424591834372e13f68b3e1",
            "value": 2
          }
        },
        "298fd6c0895743448d32868776d2d5c3": {
          "model_module": "@jupyter-widgets/controls",
          "model_name": "HTMLModel",
          "model_module_version": "1.5.0",
          "state": {
            "_dom_classes": [],
            "_model_module": "@jupyter-widgets/controls",
            "_model_module_version": "1.5.0",
            "_model_name": "HTMLModel",
            "_view_count": null,
            "_view_module": "@jupyter-widgets/controls",
            "_view_module_version": "1.5.0",
            "_view_name": "HTMLView",
            "description": "",
            "description_tooltip": null,
            "layout": "IPY_MODEL_8c3333090876444eb215beae1324f18c",
            "placeholder": "​",
            "style": "IPY_MODEL_3a7b401a97ad4e058b7af957e77240f4",
            "value": " 2/2 [00:00&lt;00:00,  6.60it/s]"
          }
        },
        "084ff0616c104598a3bae1dc9b762413": {
          "model_module": "@jupyter-widgets/base",
          "model_name": "LayoutModel",
          "model_module_version": "1.2.0",
          "state": {
            "_model_module": "@jupyter-widgets/base",
            "_model_module_version": "1.2.0",
            "_model_name": "LayoutModel",
            "_view_count": null,
            "_view_module": "@jupyter-widgets/base",
            "_view_module_version": "1.2.0",
            "_view_name": "LayoutView",
            "align_content": null,
            "align_items": null,
            "align_self": null,
            "border": null,
            "bottom": null,
            "display": null,
            "flex": null,
            "flex_flow": null,
            "grid_area": null,
            "grid_auto_columns": null,
            "grid_auto_flow": null,
            "grid_auto_rows": null,
            "grid_column": null,
            "grid_gap": null,
            "grid_row": null,
            "grid_template_areas": null,
            "grid_template_columns": null,
            "grid_template_rows": null,
            "height": null,
            "justify_content": null,
            "justify_items": null,
            "left": null,
            "margin": null,
            "max_height": null,
            "max_width": null,
            "min_height": null,
            "min_width": null,
            "object_fit": null,
            "object_position": null,
            "order": null,
            "overflow": null,
            "overflow_x": null,
            "overflow_y": null,
            "padding": null,
            "right": null,
            "top": null,
            "visibility": null,
            "width": null
          }
        },
        "2cb832927b59479d8abbeae6ffbef66e": {
          "model_module": "@jupyter-widgets/base",
          "model_name": "LayoutModel",
          "model_module_version": "1.2.0",
          "state": {
            "_model_module": "@jupyter-widgets/base",
            "_model_module_version": "1.2.0",
            "_model_name": "LayoutModel",
            "_view_count": null,
            "_view_module": "@jupyter-widgets/base",
            "_view_module_version": "1.2.0",
            "_view_name": "LayoutView",
            "align_content": null,
            "align_items": null,
            "align_self": null,
            "border": null,
            "bottom": null,
            "display": null,
            "flex": null,
            "flex_flow": null,
            "grid_area": null,
            "grid_auto_columns": null,
            "grid_auto_flow": null,
            "grid_auto_rows": null,
            "grid_column": null,
            "grid_gap": null,
            "grid_row": null,
            "grid_template_areas": null,
            "grid_template_columns": null,
            "grid_template_rows": null,
            "height": null,
            "justify_content": null,
            "justify_items": null,
            "left": null,
            "margin": null,
            "max_height": null,
            "max_width": null,
            "min_height": null,
            "min_width": null,
            "object_fit": null,
            "object_position": null,
            "order": null,
            "overflow": null,
            "overflow_x": null,
            "overflow_y": null,
            "padding": null,
            "right": null,
            "top": null,
            "visibility": null,
            "width": null
          }
        },
        "93990c6d94214c9b96980a7fd0381cf3": {
          "model_module": "@jupyter-widgets/controls",
          "model_name": "DescriptionStyleModel",
          "model_module_version": "1.5.0",
          "state": {
            "_model_module": "@jupyter-widgets/controls",
            "_model_module_version": "1.5.0",
            "_model_name": "DescriptionStyleModel",
            "_view_count": null,
            "_view_module": "@jupyter-widgets/base",
            "_view_module_version": "1.2.0",
            "_view_name": "StyleView",
            "description_width": ""
          }
        },
        "0d3ecf55f2f64ed4b60dc88e510b3d4b": {
          "model_module": "@jupyter-widgets/base",
          "model_name": "LayoutModel",
          "model_module_version": "1.2.0",
          "state": {
            "_model_module": "@jupyter-widgets/base",
            "_model_module_version": "1.2.0",
            "_model_name": "LayoutModel",
            "_view_count": null,
            "_view_module": "@jupyter-widgets/base",
            "_view_module_version": "1.2.0",
            "_view_name": "LayoutView",
            "align_content": null,
            "align_items": null,
            "align_self": null,
            "border": null,
            "bottom": null,
            "display": null,
            "flex": null,
            "flex_flow": null,
            "grid_area": null,
            "grid_auto_columns": null,
            "grid_auto_flow": null,
            "grid_auto_rows": null,
            "grid_column": null,
            "grid_gap": null,
            "grid_row": null,
            "grid_template_areas": null,
            "grid_template_columns": null,
            "grid_template_rows": null,
            "height": null,
            "justify_content": null,
            "justify_items": null,
            "left": null,
            "margin": null,
            "max_height": null,
            "max_width": null,
            "min_height": null,
            "min_width": null,
            "object_fit": null,
            "object_position": null,
            "order": null,
            "overflow": null,
            "overflow_x": null,
            "overflow_y": null,
            "padding": null,
            "right": null,
            "top": null,
            "visibility": null,
            "width": null
          }
        },
        "941ddede52424591834372e13f68b3e1": {
          "model_module": "@jupyter-widgets/controls",
          "model_name": "ProgressStyleModel",
          "model_module_version": "1.5.0",
          "state": {
            "_model_module": "@jupyter-widgets/controls",
            "_model_module_version": "1.5.0",
            "_model_name": "ProgressStyleModel",
            "_view_count": null,
            "_view_module": "@jupyter-widgets/base",
            "_view_module_version": "1.2.0",
            "_view_name": "StyleView",
            "bar_color": null,
            "description_width": ""
          }
        },
        "8c3333090876444eb215beae1324f18c": {
          "model_module": "@jupyter-widgets/base",
          "model_name": "LayoutModel",
          "model_module_version": "1.2.0",
          "state": {
            "_model_module": "@jupyter-widgets/base",
            "_model_module_version": "1.2.0",
            "_model_name": "LayoutModel",
            "_view_count": null,
            "_view_module": "@jupyter-widgets/base",
            "_view_module_version": "1.2.0",
            "_view_name": "LayoutView",
            "align_content": null,
            "align_items": null,
            "align_self": null,
            "border": null,
            "bottom": null,
            "display": null,
            "flex": null,
            "flex_flow": null,
            "grid_area": null,
            "grid_auto_columns": null,
            "grid_auto_flow": null,
            "grid_auto_rows": null,
            "grid_column": null,
            "grid_gap": null,
            "grid_row": null,
            "grid_template_areas": null,
            "grid_template_columns": null,
            "grid_template_rows": null,
            "height": null,
            "justify_content": null,
            "justify_items": null,
            "left": null,
            "margin": null,
            "max_height": null,
            "max_width": null,
            "min_height": null,
            "min_width": null,
            "object_fit": null,
            "object_position": null,
            "order": null,
            "overflow": null,
            "overflow_x": null,
            "overflow_y": null,
            "padding": null,
            "right": null,
            "top": null,
            "visibility": null,
            "width": null
          }
        },
        "3a7b401a97ad4e058b7af957e77240f4": {
          "model_module": "@jupyter-widgets/controls",
          "model_name": "DescriptionStyleModel",
          "model_module_version": "1.5.0",
          "state": {
            "_model_module": "@jupyter-widgets/controls",
            "_model_module_version": "1.5.0",
            "_model_name": "DescriptionStyleModel",
            "_view_count": null,
            "_view_module": "@jupyter-widgets/base",
            "_view_module_version": "1.2.0",
            "_view_name": "StyleView",
            "description_width": ""
          }
        }
      }
    }
  },
  "cells": [
    {
      "cell_type": "markdown",
      "metadata": {
        "id": "view-in-github",
        "colab_type": "text"
      },
      "source": [
        "<a href=\"https://colab.research.google.com/github/Patojukarthikeya73/Infosys_Springboard/blob/main/Final_work_flow.ipynb\" target=\"_parent\"><img src=\"https://colab.research.google.com/assets/colab-badge.svg\" alt=\"Open In Colab\"/></a>"
      ]
    },
    {
      "cell_type": "code",
      "execution_count": 1,
      "metadata": {
        "colab": {
          "base_uri": "https://localhost:8080/",
          "height": 260,
          "referenced_widgets": [
            "d48e3e9e18384e5b84c47bb57edcc329",
            "7ab4e248c12c45eba074ac03da27fdb6",
            "7b685724a49b498183c88beaf7781640",
            "298fd6c0895743448d32868776d2d5c3",
            "084ff0616c104598a3bae1dc9b762413",
            "2cb832927b59479d8abbeae6ffbef66e",
            "93990c6d94214c9b96980a7fd0381cf3",
            "0d3ecf55f2f64ed4b60dc88e510b3d4b",
            "941ddede52424591834372e13f68b3e1",
            "8c3333090876444eb215beae1324f18c",
            "3a7b401a97ad4e058b7af957e77240f4"
          ]
        },
        "id": "OT-6p7eQnmxu",
        "outputId": "02c831bc-d026-4baa-c37e-bf02b734ece5"
      },
      "outputs": [
        {
          "output_type": "stream",
          "name": "stderr",
          "text": [
            "/usr/local/lib/python3.12/dist-packages/huggingface_hub/utils/_auth.py:94: UserWarning: \n",
            "The secret `HF_TOKEN` does not exist in your Colab secrets.\n",
            "To authenticate with the Hugging Face Hub, create a token in your settings tab (https://huggingface.co/settings/tokens), set it as secret in your Google Colab and restart your session.\n",
            "You will be able to reuse this secret in all of your notebooks.\n",
            "Please note that authentication is recommended but still optional to access public models or datasets.\n",
            "  warnings.warn(\n"
          ]
        },
        {
          "output_type": "display_data",
          "data": {
            "text/plain": [
              "Loading checkpoint shards:   0%|          | 0/2 [00:00<?, ?it/s]"
            ],
            "application/vnd.jupyter.widget-view+json": {
              "version_major": 2,
              "version_minor": 0,
              "model_id": "d48e3e9e18384e5b84c47bb57edcc329"
            }
          },
          "metadata": {}
        },
        {
          "output_type": "stream",
          "name": "stderr",
          "text": [
            "Device set to use cuda:0\n",
            "If you want to use `RobertaLMHeadModel` as a standalone, add `is_decoder=True.`\n",
            "Some weights of RobertaForCausalLM were not initialized from the model checkpoint at microsoft/codebert-base and are newly initialized: ['lm_head.bias', 'lm_head.decoder.bias', 'lm_head.dense.bias', 'lm_head.dense.weight', 'lm_head.layer_norm.bias', 'lm_head.layer_norm.weight']\n",
            "You should probably TRAIN this model on a down-stream task to be able to use it for predictions and inference.\n",
            "Device set to use cuda:0\n"
          ]
        }
      ],
      "source": [
        "!pip install -q transformers gradio torch\n",
        "\n",
        "import ast\n",
        "import re\n",
        "import gradio as gr\n",
        "from transformers import pipeline\n",
        "\n",
        "# ==================================================\n",
        "# 🧠 BACKEND LOGIC — User Management, Models, Code Analysis\n",
        "# ==================================================\n",
        "\n",
        "# ---------------- User Management ----------------\n",
        "users = {}\n",
        "\n",
        "def register_user(username, password):\n",
        "    if username in users:\n",
        "        return False, \"⚠️ Username already exists!\"\n",
        "    users[username] = {\"password\": password}\n",
        "    return True, \"✅ Registration successful! Please login.\"\n",
        "\n",
        "def login_user(username, password):\n",
        "    if username not in users:\n",
        "        return False, \"❌ User not found!\"\n",
        "    if users[username][\"password\"] != password:\n",
        "        return False, \"🚫 Incorrect password!\"\n",
        "    return True, \"✅ Login successful!\"\n",
        "\n",
        "# ---------------- Model Initialization ----------------\n",
        "phi_model = pipeline(\"text-generation\", model=\"microsoft/phi-2\")\n",
        "codebert_model = pipeline(\"text-generation\", model=\"microsoft/codebert-base\")\n",
        "\n",
        "# ---------------- Code Cleaning Helper ----------------\n",
        "def extract_code_only(text):\n",
        "    \"\"\"Removes echoed prompt and retains only the actual code (for Python).\"\"\"\n",
        "    match = re.search(r\"(def |class )\", text)\n",
        "    if match:\n",
        "        return text[match.start():].strip()\n",
        "    return text.strip()\n",
        "\n",
        "# ---------------- Python Code Analyzer ----------------\n",
        "# ---------------- Python Code Analyzer ----------------\n",
        "def explain_python_code(code):\n",
        "    try:\n",
        "        tree = ast.parse(code)\n",
        "        explanation = []\n",
        "\n",
        "        for node in ast.walk(tree):\n",
        "            if isinstance(node, ast.FunctionDef):\n",
        "                args = \", \".join(arg.arg for arg in node.args.args)\n",
        "                explanation.append(f\"Defines function '{node.name}' with args: {args}\")\n",
        "            elif isinstance(node, ast.For):\n",
        "                explanation.append(\"Includes a for-loop.\")\n",
        "            elif isinstance(node, ast.While):\n",
        "                explanation.append(\"Includes a while-loop.\")\n",
        "            elif isinstance(node, ast.If):\n",
        "                explanation.append(\"Contains an if-else condition.\")\n",
        "            elif isinstance(node, ast.Assign):\n",
        "                explanation.append(\"Performs variable assignment.\")\n",
        "\n",
        "        return \" | \".join(set(explanation)) if explanation else \"Simple code structure.\"\n",
        "    except SyntaxError as e:\n",
        "        return f\"⚠️ Syntax Error in code: {e.msg} (Line {e.lineno})\"\n",
        "    except Exception as e:\n",
        "        return f\"⚠️ Could not analyze code: {str(e)}\"\n",
        "\n",
        "\n",
        "# ---------------- Code Generator ----------------\n",
        "# ---------------- Code Generator ----------------\n",
        "def generate_code(prompt, language):\n",
        "    if language == \"Python\":\n",
        "        raw_output = phi_model(prompt, max_new_tokens=180)[0][\"generated_text\"]\n",
        "\n",
        "        # Remove echoed prompt\n",
        "        code_candidate = raw_output.replace(prompt, \"\").strip()\n",
        "\n",
        "        # Extract only first function or class definition\n",
        "        match = re.search(r\"(def .+?:|class .+?:)\", code_candidate)\n",
        "        if match:\n",
        "            code = code_candidate[match.start():]\n",
        "        else:\n",
        "            code = code_candidate\n",
        "\n",
        "        # Truncate after two line breaks if too long\n",
        "        code = code.strip().split(\"\\n\\n\")[0].strip()\n",
        "\n",
        "        explanation = explain_python_code(code)\n",
        "        return code, explanation\n",
        "\n",
        "    elif language in [\"JavaScript\", \"SQL\"]:\n",
        "        # Only return the first paragraph/block of code\n",
        "        generated = codebert_model(prompt, max_new_tokens=180)[0][\"generated_text\"]\n",
        "        cleaned = generated.replace(prompt, \"\").strip().split(\"\\n\\n\")[0]\n",
        "        return cleaned, f\"Generated {language} code using CodeBERT. Review logic manually.\"\n",
        "\n",
        "    return \"⚠️ Unsupported language selected.\", \"\"\n"
      ]
    },
    {
      "cell_type": "code",
      "source": [
        "def build_ui():\n",
        "    with gr.Blocks(title=\"CodeGenie — Multi-Model Code Generator\") as demo:\n",
        "        gr.Markdown(\"# 🧠 CodeGenie — AI Code Generator with Python AST Analysis\")\n",
        "\n",
        "        # ---------- Login/Register Section ----------\n",
        "        login_section = gr.Group(visible=True)\n",
        "        with login_section:\n",
        "            with gr.Tabs():\n",
        "                with gr.Tab(\"Register\"):\n",
        "                    reg_user = gr.Textbox(label=\"Username\")\n",
        "                    reg_pass = gr.Textbox(label=\"Password\", type=\"password\")\n",
        "                    reg_btn = gr.Button(\"Register\")\n",
        "                    reg_out = gr.Textbox(label=\"Status\")\n",
        "                    reg_btn.click(lambda u, p: register_user(u, p)[1], [reg_user, reg_pass], reg_out)\n",
        "\n",
        "                with gr.Tab(\"Login\"):\n",
        "                    log_user = gr.Textbox(label=\"Username\")\n",
        "                    log_pass = gr.Textbox(label=\"Password\", type=\"password\")\n",
        "                    log_btn = gr.Button(\"Login\")\n",
        "                    log_out = gr.Textbox(label=\"Status\")\n",
        "\n",
        "        # ---------- CodeGen Playground ----------\n",
        "        codegen_section = gr.Group(visible=False)\n",
        "        with codegen_section:\n",
        "            gr.Markdown(\"## 💻 Code Playground\")\n",
        "\n",
        "            lang_select = gr.Radio([\"Python\", \"JavaScript\", \"SQL\"], label=\"Language\", value=\"Python\")\n",
        "            prompt_input = gr.Textbox(label=\"🧩 Enter Problem Statement\", placeholder=\"Describe your coding task...\")\n",
        "            gen_btn = gr.Button(\"🚀 Generate Code\")\n",
        "            code_output = gr.Textbox(label=\"🧩 Generated Code\", lines=12)\n",
        "            explain_output = gr.Textbox(label=\"🧠 Code Explanation\", lines=6)\n",
        "\n",
        "            # Button click → trigger backend code generation\n",
        "            gen_btn.click(generate_code, [prompt_input, lang_select], [code_output, explain_output])\n",
        "\n",
        "        # ---------- Login Handler ----------\n",
        "        def handle_login(username, password):\n",
        "            ok, msg = login_user(username, password)\n",
        "            if ok:\n",
        "                return gr.update(visible=False), gr.update(visible=True), msg\n",
        "            return gr.update(visible=True), gr.update(visible=False), msg\n",
        "\n",
        "        # Button click → trigger backend login\n",
        "        log_btn.click(handle_login, [log_user, log_pass], [login_section, codegen_section, log_out])\n",
        "\n",
        "    return demo"
      ],
      "metadata": {
        "id": "mMOoBHSlnnx4"
      },
      "execution_count": 2,
      "outputs": []
    },
    {
      "cell_type": "code",
      "source": [
        "demo = build_ui()\n",
        "demo.launch(share=True)"
      ],
      "metadata": {
        "colab": {
          "base_uri": "https://localhost:8080/",
          "height": 611
        },
        "id": "o-ihZ-GtnsPA",
        "outputId": "a54ffb0f-deff-468e-ba7a-66e92d004a54"
      },
      "execution_count": 3,
      "outputs": [
        {
          "output_type": "stream",
          "name": "stdout",
          "text": [
            "Colab notebook detected. To show errors in colab notebook, set debug=True in launch()\n",
            "* Running on public URL: https://d21e6a89d7e9920a87.gradio.live\n",
            "\n",
            "This share link expires in 1 week. For free permanent hosting and GPU upgrades, run `gradio deploy` from the terminal in the working directory to deploy to Hugging Face Spaces (https://huggingface.co/spaces)\n"
          ]
        },
        {
          "output_type": "display_data",
          "data": {
            "text/plain": [
              "<IPython.core.display.HTML object>"
            ],
            "text/html": [
              "<div><iframe src=\"https://d21e6a89d7e9920a87.gradio.live\" width=\"100%\" height=\"500\" allow=\"autoplay; camera; microphone; clipboard-read; clipboard-write;\" frameborder=\"0\" allowfullscreen></iframe></div>"
            ]
          },
          "metadata": {}
        },
        {
          "output_type": "execute_result",
          "data": {
            "text/plain": []
          },
          "metadata": {},
          "execution_count": 3
        }
      ]
    },
    {
      "cell_type": "code",
      "source": [],
      "metadata": {
        "id": "OXgM4QvbnuVJ"
      },
      "execution_count": null,
      "outputs": []
    }
  ]
}