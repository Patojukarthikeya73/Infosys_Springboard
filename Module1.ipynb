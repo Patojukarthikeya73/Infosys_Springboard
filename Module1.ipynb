{
  "cells": [
    {
      "cell_type": "markdown",
      "metadata": {
        "id": "view-in-github",
        "colab_type": "text"
      },
      "source": [
        "<a href=\"https://colab.research.google.com/github/Patojukarthikeya73/Infosys_Springboard/blob/main/Module1.ipynb\" target=\"_parent\"><img src=\"https://colab.research.google.com/assets/colab-badge.svg\" alt=\"Open In Colab\"/></a>"
      ]
    },
    {
      "cell_type": "markdown",
      "metadata": {
        "id": "ZBNLWeWLc4ws"
      },
      "source": [
        "**Installing Libraries Required**\n",
        "\n",
        "Gradio is used to build the web-based interface within Google Colab.\n",
        "\n",
        "JWT (JSON Web Token) manages secure login sessions using encoded tokens.\n",
        "\n",
        "Datetime is used to control token expiration time.\n",
        "\n",
        "Bcrypt handles password encryption and verification for security.\n",
        "\n"
      ]
    },
    {
      "cell_type": "code",
      "execution_count": null,
      "metadata": {
        "id": "7zp8sfL-jB8T"
      },
      "outputs": [],
      "source": [
        "!pip install gradio streamlit pyngrok matplotlib pandas scikit-learn bcrypt transformers --quiet"
      ]
    },
    {
      "cell_type": "markdown",
      "metadata": {
        "id": "ZQ7DNcfjdORV"
      },
      "source": [
        "**Defining Security Keys and Database**\n",
        "\n",
        "Purpose:\n",
        "To define a secret key for encryption and a structure for storing user information.\n",
        "\n",
        "Details:\n",
        "\n",
        "A secret key is used to sign JWT tokens so that they cannot be forged.\n",
        "\n",
        "A temporary in-memory database (dictionary) is used to store user credentials, roles, and preferences"
      ]
    },
    {
      "cell_type": "code",
      "execution_count": null,
      "metadata": {
        "colab": {
          "background_save": true,
          "base_uri": "https://localhost:8080/",
          "height": 611
        },
        "id": "zstvjTUOjP_Y",
        "outputId": "7aaa24c7-9249-418c-883f-e323c5916fdf"
      },
      "outputs": [
        {
          "name": "stdout",
          "output_type": "stream",
          "text": [
            "Colab notebook detected. To show errors in colab notebook, set debug=True in launch()\n",
            "* Running on public URL: https://25871bcae936da4244.gradio.live\n",
            "\n",
            "This share link expires in 1 week. For free permanent hosting and GPU upgrades, run `gradio deploy` from the terminal in the working directory to deploy to Hugging Face Spaces (https://huggingface.co/spaces)\n"
          ]
        },
        {
          "data": {
            "text/html": [
              "<div><iframe src=\"https://25871bcae936da4244.gradio.live\" width=\"100%\" height=\"500\" allow=\"autoplay; camera; microphone; clipboard-read; clipboard-write;\" frameborder=\"0\" allowfullscreen></iframe></div>"
            ],
            "text/plain": [
              "<IPython.core.display.HTML object>"
            ]
          },
          "metadata": {},
          "output_type": "display_data"
        },
        {
          "data": {
            "text/plain": []
          },
          "execution_count": 2,
          "metadata": {},
          "output_type": "execute_result"
        }
      ],
      "source": [
        "import gradio as gr\n",
        "import jwt, datetime, bcrypt\n",
        "\n",
        "SECRET_KEY = \"your-secret-key\"\n",
        "users_db = {}   # username -> {password, role, preference}\n",
        "\n",
        "# --- JWT helpers ---\n",
        "def create_token(username):\n",
        "    payload = {\n",
        "        \"username\": username,\n",
        "        \"exp\": datetime.datetime.utcnow() + datetime.timedelta(hours=1)\n",
        "    }\n",
        "    return jwt.encode(payload, SECRET_KEY, algorithm=\"HS256\")\n",
        "\n",
        "def verify_token(token):\n",
        "    try:\n",
        "        decoded = jwt.decode(token, SECRET_KEY, algorithms=[\"HS256\"])\n",
        "        return decoded[\"username\"]\n",
        "    except Exception:\n",
        "        return None\n",
        "\n",
        "\n",
        "# --- Core Logic ---\n",
        "def register_user(username, password, role, preference):\n",
        "    if username in users_db:\n",
        "        return \"⚠️ Username already exists.\"\n",
        "    hashed = bcrypt.hashpw(password.encode(), bcrypt.gensalt())\n",
        "    users_db[username] = {\"password\": hashed, \"role\": role, \"pref\": preference}\n",
        "    return f\"✅ User '{username}' registered successfully!\"\n",
        "\n",
        "def login_user(username, password):\n",
        "    user = users_db.get(username)\n",
        "    if not user:\n",
        "        return \"❌ Invalid username or password.\", None\n",
        "    if not bcrypt.checkpw(password.encode(), user[\"password\"]):\n",
        "        return \"❌ Invalid username or password.\", None\n",
        "    token = create_token(username)\n",
        "    return f\"✅ Welcome {username}! (role: {user['role']})\", token\n",
        "\n",
        "def dashboard(token):\n",
        "    username = verify_token(token)\n",
        "    if not username:\n",
        "        return \"⚠️ Invalid or expired token. Please login again.\"\n",
        "    user = users_db[username]\n",
        "    return f\"\"\"\n",
        "👋 **Welcome, {username}!**\n",
        "- Role: **{user['role']}**\n",
        "- Content Preference: **{user['pref']}**\n",
        "\n",
        "You can now access personalized content or update your profile.\n",
        "\"\"\"\n",
        "\n",
        "# --- Gradio Interface ---\n",
        "\n",
        "with gr.Blocks(title=\"Milestone 3 – Module 1 (Gradio JWT App)\") as demo:\n",
        "    gr.Markdown(\"##  Secure Login System \")\n",
        "\n",
        "    with gr.Tab(\"📝 Register\"):\n",
        "        r_user = gr.Textbox(label=\"Username\")\n",
        "        r_pass = gr.Textbox(label=\"Password\", type=\"password\")\n",
        "        r_role = gr.Dropdown([\"Reader\", \"Admin\"], label=\"Role\", value=\"Reader\")\n",
        "        r_pref = gr.Textbox(label=\"Reading Preference / Content Type\")\n",
        "        r_btn = gr.Button(\"Register\")\n",
        "        r_out = gr.Textbox(label=\"Result\")\n",
        "        r_btn.click(register_user, inputs=[r_user, r_pass, r_role, r_pref], outputs=r_out)\n",
        "\n",
        "    with gr.Tab(\"🔑 Login\"):\n",
        "        l_user = gr.Textbox(label=\"Username\")\n",
        "        l_pass = gr.Textbox(label=\"Password\", type=\"password\")\n",
        "        l_btn = gr.Button(\"Login\")\n",
        "        l_msg = gr.Textbox(label=\"Message\")\n",
        "        l_token = gr.Textbox(label=\"JWT Token (copy for Dashboard)\")\n",
        "        l_btn.click(login_user, inputs=[l_user, l_pass], outputs=[l_msg, l_token])\n",
        "\n",
        "    with gr.Tab(\"📊 Dashboard\"):\n",
        "        token_in = gr.Textbox(label=\"Paste your JWT Token\")\n",
        "        d_btn = gr.Button(\"Show Dashboard\")\n",
        "        d_out = gr.Markdown()\n",
        "        d_btn.click(dashboard, inputs=token_in, outputs=d_out)\n",
        "\n",
        "demo.launch(share=True)\n"
      ]
    },
    {
      "cell_type": "markdown",
      "metadata": {
        "id": "xZgNYGbJdS8Q"
      },
      "source": [
        "**Token Management (JWT Handling)**\n",
        "\n",
        "Purpose:\n",
        "To securely manage user sessions using tokens instead of traditional cookies.\n",
        "\n",
        "Details:\n",
        "\n",
        "When a user logs in, a JWT token is generated containing their username and an expiration time.\n",
        "\n",
        "The token is later used to verify whether a user is authorized to access certain features.\n",
        "\n",
        "If the token is expired or invalid, the user must log in again."
      ]
    },
    {
      "cell_type": "code",
      "execution_count": null,
      "metadata": {
        "colab": {
          "background_save": true
        },
        "id": "39MHDCs1lg2o"
      },
      "outputs": [],
      "source": [
        "def update_profile(email, role=None, reading_preferences=None, content_type=None):\n",
        "    if email not in users_db:\n",
        "        return {\"error\": \"User not found\"}\n",
        "\n",
        "    if role:\n",
        "        users_db[email][\"role\"] = role\n",
        "    if reading_preferences:\n",
        "        users_db[email][\"reading_preferences\"] = reading_preferences\n",
        "    if content_type:\n",
        "        users_db[email][\"content_type\"] = content_type\n",
        "\n",
        "    return {\"message\": \"Profile updated successfully!\", \"user\": users_db[email]}\n"
      ]
    },
    {
      "cell_type": "markdown",
      "metadata": {
        "id": "s0ehNT8EddFo"
      },
      "source": [
        "**User Registration Process**\n",
        "**Role and** **Profile Management**\n",
        "\n",
        "*Purpose* :\n",
        "\n",
        "To handle different types of users and their content preferences.\n",
        "\n",
        "To allow new users to sign up securely with defined roles and preferences.\n",
        "\n",
        "*Details:*\n",
        "\n",
        "Each user has a role that defines their permissions (e.g., Admins might manage content; Readers might only view).\n",
        "\n",
        "Preferences (like topic or category) can be stored to personalize their experience later.\n",
        "\n",
        "Roles and preferences are displayed on the user’s dashboard.\n",
        "\n",
        "To allow new users to sign up securely with defined roles and preferences.\n",
        "\n",
        "When a user registers, their password is encrypted using bcrypt before storing.\n",
        "\n",
        "Duplicate usernames are prevented.\n",
        "\n",
        "Each user can set a role (e.g., Reader, Admin) and preference (e.g., content type)."
      ]
    },
    {
      "cell_type": "code",
      "execution_count": null,
      "metadata": {
        "colab": {
          "background_save": true,
          "base_uri": "https://localhost:8080/",
          "height": 611
        },
        "id": "-q6dOJsxl01n",
        "outputId": "dfab2e05-ac07-41b1-c9d7-9cc4e589a07c"
      },
      "outputs": [
        {
          "name": "stdout",
          "output_type": "stream",
          "text": [
            "Colab notebook detected. To show errors in colab notebook, set debug=True in launch()\n",
            "* Running on public URL: https://f334c386c0588c18db.gradio.live\n",
            "\n",
            "This share link expires in 1 week. For free permanent hosting and GPU upgrades, run `gradio deploy` from the terminal in the working directory to deploy to Hugging Face Spaces (https://huggingface.co/spaces)\n"
          ]
        },
        {
          "data": {
            "text/html": [
              "<div><iframe src=\"https://f334c386c0588c18db.gradio.live\" width=\"100%\" height=\"500\" allow=\"autoplay; camera; microphone; clipboard-read; clipboard-write;\" frameborder=\"0\" allowfullscreen></iframe></div>"
            ],
            "text/plain": [
              "<IPython.core.display.HTML object>"
            ]
          },
          "metadata": {},
          "output_type": "display_data"
        },
        {
          "data": {
            "text/plain": []
          },
          "execution_count": 4,
          "metadata": {},
          "output_type": "execute_result"
        }
      ],
      "source": [
        "import gradio as gr\n",
        "\n",
        "roles = [\"admin\", \"editor\", \"viewer\"]\n",
        "topics = [\"AI\", \"Machine Learning\", \"Data Science\", \"Finance\"]\n",
        "content_types = [\"Articles\", \"Videos\", \"Research Papers\"]\n",
        "\n",
        "def profile_ui(email, role, reading_preferences, content_type):\n",
        "    return update_profile(email, role, reading_preferences, content_type)\n",
        "\n",
        "with gr.Blocks() as demo:\n",
        "    gr.Markdown(\"### 🧑‍💼 User Role & Profile Management\")\n",
        "    email = gr.Textbox(label=\"User Email\")\n",
        "    role = gr.Dropdown(choices=roles, label=\"Select Role\")\n",
        "    reading_preferences = gr.CheckboxGroup(choices=topics, label=\"Reading Preferences\")\n",
        "    content_type = gr.CheckboxGroup(choices=content_types, label=\"Preferred Content Types\")\n",
        "    output = gr.JSON(label=\"Result\")\n",
        "\n",
        "    submit_btn = gr.Button(\"Update Profile\")\n",
        "    submit_btn.click(profile_ui, inputs=[email, role, reading_preferences, content_type], outputs=output)\n",
        "\n",
        "demo.launch(share=True)\n"
      ]
    },
    {
      "cell_type": "markdown",
      "metadata": {
        "id": "QhfCkGOReCPD"
      },
      "source": [
        "**Designing the Minimal Web Interface (Gradio)**\n",
        "\n",
        "Purpose:\n",
        "\n",
        "To allow users to interact with the authentication system easily.\n",
        "\\\n",
        "Details:\n",
        "\n",
        "The interface has three tabs: Register, Login, and Dashboard.\n",
        "\n",
        "Each tab corresponds to one major function of the system.\n",
        "\n",
        "Inputs and buttons connect the user’s actions directly with backend logic.\n",
        "\n",
        "The interface runs on Google Colab and provides a shareable link for public testing."
      ]
    },
    {
      "cell_type": "markdown",
      "metadata": {
        "id": "H5l1Na_legqG"
      },
      "source": [
        "| Feature               | Description                                           |\n",
        "| --------------------- | ----------------------------------------------------- |\n",
        "| Secure Authentication | Implemented password encryption and token-based login |\n",
        "| Role Management       | User roles like Admin and Reader defined              |\n",
        "| Profile Preferences   | Personalized content setup included                   |\n",
        "| Minimal Web UI        | Built using Gradio for quick testing in Colab         |\n",
        "| JWT Session Handling  | Secure login persistence with expiry                  |\n",
        "| Expandability         | Ready for future modules and integration              |\n"
      ]
    }
  ],
  "metadata": {
    "colab": {
      "provenance": [],
      "authorship_tag": "ABX9TyNg8wcnsZonObr+SdmgTi38",
      "include_colab_link": true
    },
    "kernelspec": {
      "display_name": "Python 3",
      "name": "python3"
    },
    "language_info": {
      "name": "python"
    }
  },
  "nbformat": 4,
  "nbformat_minor": 0
}